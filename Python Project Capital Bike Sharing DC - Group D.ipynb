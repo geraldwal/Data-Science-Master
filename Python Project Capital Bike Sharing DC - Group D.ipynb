{
 "cells": [
  {
   "cell_type": "markdown",
   "metadata": {},
   "source": [
    "# Bike sharing in Washington\n",
    "<em>Group Project Statistical Programming in Python<em>\n",
    "___"
   ]
  },
  {
   "cell_type": "markdown",
   "metadata": {},
   "source": [
    "                              Master in Business Analytics & Big data\n",
    "                                    Professor Jorge Lopez Lazaro\n",
    "                                             Group D\n",
    "                                            _________"
   ]
  },
  {
   "cell_type": "markdown",
   "metadata": {},
   "source": [
    "# Table of content"
   ]
  },
  {
   "cell_type": "markdown",
   "metadata": {},
   "source": [
    "1. Introduction\n",
    "2. Libraries used\n",
    "3. Data loading\n",
    "4. Preparation for baseline\n",
    "        I) Correct data types\n",
    "        II) Normalization\n",
    "        III) Fix Skewness\n",
    "        IV) One hot encoding\n",
    "5. Splitting dataset\n",
    "6. Feature Engineering\n",
    "        I) Quantile bins\n",
    "        II) One hot encoding\n",
    "7. Ensembling\n",
    "        I) Splitted scoring for Casual and Registered\n",
    "            a) Registered scoring\n",
    "            b) Casual scoring\n",
    "            c) Ensemble scoring\n",
    "            d) Plotting results\n",
    "        II) Splitted scoring for Casual/Registered and Workday/Weekend\n",
    "            a) Registered workday\n",
    "            b) Registered weekend\n",
    "            c) Casual workday\n",
    "            d) Casual weekend\n",
    "            e) Ensemble scoring\n",
    "            f) Plotting results\n",
    "8. Conclusion"
   ]
  },
  {
   "cell_type": "markdown",
   "metadata": {},
   "source": [
    "# 1. Introduction"
   ]
  },
  {
   "cell_type": "markdown",
   "metadata": {},
   "source": [
    "### Scope\n",
    "This study aims to predict the total number of bike sharing users in Washington  on an hourly basis in the last quarter of 2012. This demand prediction of a time series will be measured with the R2 metric in order to see how much of our final model will encompass the information to represent our model. Along the way we measure MSE and MAE in order to not bring an error too large into the models and make strong predictions. "
   ]
  },
  {
   "cell_type": "markdown",
   "metadata": {},
   "source": [
    "# 2. Libraries used"
   ]
  },
  {
   "cell_type": "code",
   "execution_count": 2,
   "metadata": {},
   "outputs": [],
   "source": [
    "import pandas as pd\n",
    "import numpy as np\n",
    "import warnings\n",
    "\n",
    "from collections import defaultdict\n",
    "from sklearn import metrics\n",
    "\n",
    "from sklearn import preprocessing\n",
    "from sklearn import clone\n",
    "from sklearn import datasets, linear_model\n",
    "from sklearn.linear_model import LinearRegression\n",
    "from sklearn.metrics import mean_squared_error, r2_score\n",
    "from sklearn.model_selection import train_test_split, KFold\n",
    "from sklearn.model_selection import cross_val_score, cross_val_predict\n",
    "from sklearn.pipeline import make_pipeline\n",
    "from sklearn.preprocessing import LabelBinarizer, RobustScaler\n",
    "from sklearn.tree import DecisionTreeRegressor\n",
    "from sklearn.linear_model import Ridge, HuberRegressor, ElasticNetCV\n",
    "from sklearn.ensemble import BaggingRegressor, ExtraTreesRegressor, GradientBoostingRegressor, RandomForestRegressor\n",
    "from sklearn.svm import SVR\n",
    "from sklearn import model_selection\n",
    "\n",
    "from scipy import stats\n",
    "\n",
    "from scipy.stats import skew, boxcox_normmax\n",
    "from scipy.special import boxcox1p\n",
    "\n",
    "import matplotlib.pyplot as plt\n",
    "import matplotlib.cm as cm\n",
    "import seaborn as sns\n",
    "\n",
    "from sklearn.metrics import explained_variance_score\n",
    "\n",
    "warnings.simplefilter(action='ignore')"
   ]
  },
  {
   "cell_type": "markdown",
   "metadata": {},
   "source": [
    "# 3. Data Loading\n",
    "The dataset can be accessed at the following website:\n",
    "https://www.kaggle.com/marklvl/bike-sharing-dataset\n",
    "The file is downloaded and loaded in a gist, so it can be loaded into the python script when you are conected to the internet. In addition, we found the dataset of all Bike Sharing Stations Capital Bike Sharing runs. We wil run exploratory location analysis on it in order to discover patterns in the data."
   ]
  },
  {
   "cell_type": "code",
   "execution_count": 71,
   "metadata": {},
   "outputs": [],
   "source": [
    "hour_data = pd.read_csv(\n",
    "    \"https://gist.githubusercontent.com/geraldwal/b5a83f4c670abe0a662abce558e5d433/raw/bce4bbfc63355606e4503964e25798b5d2190b9b/hour%2520-%2520Python%2520Bike%2520Sharing\",\n",
    "    sep=\",\",\n",
    "    parse_dates=[\"dteday\"],\n",
    ")"
   ]
  },
  {
   "cell_type": "markdown",
   "metadata": {},
   "source": [
    "Renaming columns of the dataset we will use for modelling."
   ]
  },
  {
   "cell_type": "code",
   "execution_count": 79,
   "metadata": {},
   "outputs": [],
   "source": [
    "hour_data.rename(\n",
    "    columns={\n",
    "        \"weathersit\": \"weather\",\n",
    "        \"mnth\": \"month\",\n",
    "        \"hr\": \"hour\",\n",
    "        \"hum\": \"humidity\",\n",
    "        \"cnt\": \"count\",\n",
    "        \"yr\": \"year\",\n",
    "    },\n",
    "    inplace=True,\n",
    ")"
   ]
  },
  {
   "cell_type": "markdown",
   "metadata": {},
   "source": [
    "Copying the dataset to later be able to use the parsed date information."
   ]
  },
  {
   "cell_type": "code",
   "execution_count": 100,
   "metadata": {},
   "outputs": [],
   "source": [
    "first_hour_data=hour_data"
   ]
  },
  {
   "cell_type": "markdown",
   "metadata": {},
   "source": [
    "To have all needed values included, we extracted the day column from the dteday variable."
   ]
  },
  {
   "cell_type": "code",
   "execution_count": 5,
   "metadata": {
    "scrolled": true
   },
   "outputs": [
    {
     "data": {
      "text/html": [
       "<div>\n",
       "<style scoped>\n",
       "    .dataframe tbody tr th:only-of-type {\n",
       "        vertical-align: middle;\n",
       "    }\n",
       "\n",
       "    .dataframe tbody tr th {\n",
       "        vertical-align: top;\n",
       "    }\n",
       "\n",
       "    .dataframe thead th {\n",
       "        text-align: right;\n",
       "    }\n",
       "</style>\n",
       "<table border=\"1\" class=\"dataframe\">\n",
       "  <thead>\n",
       "    <tr style=\"text-align: right;\">\n",
       "      <th></th>\n",
       "      <th>instant</th>\n",
       "      <th>dteday</th>\n",
       "      <th>season</th>\n",
       "      <th>year</th>\n",
       "      <th>month</th>\n",
       "      <th>hour</th>\n",
       "      <th>holiday</th>\n",
       "      <th>weekday</th>\n",
       "      <th>workingday</th>\n",
       "      <th>weather</th>\n",
       "      <th>temp</th>\n",
       "      <th>atemp</th>\n",
       "      <th>humidity</th>\n",
       "      <th>windspeed</th>\n",
       "      <th>casual</th>\n",
       "      <th>registered</th>\n",
       "      <th>count</th>\n",
       "      <th>day</th>\n",
       "    </tr>\n",
       "  </thead>\n",
       "  <tbody>\n",
       "    <tr>\n",
       "      <th>0</th>\n",
       "      <td>1</td>\n",
       "      <td>2011-01-01</td>\n",
       "      <td>1</td>\n",
       "      <td>0</td>\n",
       "      <td>1</td>\n",
       "      <td>0</td>\n",
       "      <td>0</td>\n",
       "      <td>6</td>\n",
       "      <td>0</td>\n",
       "      <td>1</td>\n",
       "      <td>0.24</td>\n",
       "      <td>0.2879</td>\n",
       "      <td>0.81</td>\n",
       "      <td>0.0</td>\n",
       "      <td>3</td>\n",
       "      <td>13</td>\n",
       "      <td>16</td>\n",
       "      <td>1</td>\n",
       "    </tr>\n",
       "    <tr>\n",
       "      <th>1</th>\n",
       "      <td>2</td>\n",
       "      <td>2011-01-01</td>\n",
       "      <td>1</td>\n",
       "      <td>0</td>\n",
       "      <td>1</td>\n",
       "      <td>1</td>\n",
       "      <td>0</td>\n",
       "      <td>6</td>\n",
       "      <td>0</td>\n",
       "      <td>1</td>\n",
       "      <td>0.22</td>\n",
       "      <td>0.2727</td>\n",
       "      <td>0.80</td>\n",
       "      <td>0.0</td>\n",
       "      <td>8</td>\n",
       "      <td>32</td>\n",
       "      <td>40</td>\n",
       "      <td>1</td>\n",
       "    </tr>\n",
       "  </tbody>\n",
       "</table>\n",
       "</div>"
      ],
      "text/plain": [
       "   instant     dteday  season  year  month  hour  holiday  weekday  \\\n",
       "0        1 2011-01-01       1     0      1     0        0        6   \n",
       "1        2 2011-01-01       1     0      1     1        0        6   \n",
       "\n",
       "   workingday  weather  temp   atemp  humidity  windspeed  casual  registered  \\\n",
       "0           0        1  0.24  0.2879      0.81        0.0       3          13   \n",
       "1           0        1  0.22  0.2727      0.80        0.0       8          32   \n",
       "\n",
       "   count  day  \n",
       "0     16    1  \n",
       "1     40    1  "
      ]
     },
     "metadata": {},
     "output_type": "display_data"
    }
   ],
   "source": [
    "hour_data.dteday = pd.to_datetime(hour_data.dteday, format=\"%Y-%m-%d\")\n",
    "hour_data[\"day\"] = pd.DatetimeIndex(hour_data[\"dteday\"]).day\n",
    "display(hour_data.head(2))"
   ]
  },
  {
   "cell_type": "markdown",
   "metadata": {},
   "source": [
    "When analyzing the variables further, we realized that the season column includes misleading information as shown below, therefore we adjusted it to the real seasons (from: https://en.wikipedia.org/wiki/Season)."
   ]
  },
  {
   "cell_type": "code",
   "execution_count": 6,
   "metadata": {},
   "outputs": [
    {
     "name": "stdout",
     "output_type": "stream",
     "text": [
      "season\n",
      "1      [1, 2, 3, 12]\n",
      "2       [3, 4, 5, 6]\n",
      "3       [6, 7, 8, 9]\n",
      "4    [9, 10, 11, 12]\n",
      "dtype: object\n"
     ]
    }
   ],
   "source": [
    "print(hour_data.groupby(\"season\").apply(lambda x: x[\"month\"].unique()))"
   ]
  },
  {
   "cell_type": "code",
   "execution_count": 7,
   "metadata": {},
   "outputs": [
    {
     "name": "stdout",
     "output_type": "stream",
     "text": [
      "season\n",
      "1     [1, 2, 12]\n",
      "2      [3, 4, 5]\n",
      "3      [6, 7, 8]\n",
      "4    [9, 10, 11]\n",
      "dtype: object\n"
     ]
    }
   ],
   "source": [
    "hour_data[\"season\"] = (pd.DatetimeIndex(hour_data[\"dteday\"]).month % 12 + 3) // 3\n",
    "print(hour_data.groupby(\"season\").apply(lambda x: x[\"month\"].unique()))"
   ]
  },
  {
   "cell_type": "code",
   "execution_count": 8,
   "metadata": {},
   "outputs": [],
   "source": [
    "hour_data.drop([\"dteday\"], axis=1, inplace=True)"
   ]
  },
  {
   "cell_type": "markdown",
   "metadata": {},
   "source": [
    "# 4. Preparation for Baseline"
   ]
  },
  {
   "cell_type": "markdown",
   "metadata": {},
   "source": [
    "## I) Correct data types"
   ]
  },
  {
   "cell_type": "code",
   "execution_count": 9,
   "metadata": {},
   "outputs": [
    {
     "data": {
      "text/plain": [
       "instant          int64\n",
       "season        category\n",
       "year          category\n",
       "month         category\n",
       "hour          category\n",
       "holiday       category\n",
       "weekday       category\n",
       "workingday    category\n",
       "weather       category\n",
       "temp           float64\n",
       "atemp          float64\n",
       "humidity       float64\n",
       "windspeed      float64\n",
       "casual           int64\n",
       "registered       int64\n",
       "count            int64\n",
       "day              int64\n",
       "dtype: object"
      ]
     },
     "execution_count": 9,
     "metadata": {},
     "output_type": "execute_result"
    }
   ],
   "source": [
    "hour_data[\"season\"] = hour_data.season.astype(\"category\")\n",
    "hour_data[\"month\"] = hour_data.month.astype(\"category\")\n",
    "hour_data[\"hour\"] = hour_data.hour.astype(\"category\")\n",
    "hour_data[\"holiday\"] = hour_data.holiday.astype(\"category\")\n",
    "hour_data[\"weekday\"] = hour_data.weekday.astype(\"category\")\n",
    "hour_data[\"workingday\"] = hour_data.workingday.astype(\"category\")\n",
    "hour_data[\"weather\"] = hour_data.weather.astype(\"category\")\n",
    "hour_data[\"year\"] = hour_data.weather.astype(\"category\")\n",
    "hour_data.dtypes"
   ]
  },
  {
   "cell_type": "markdown",
   "metadata": {},
   "source": [
    "## II) Normalize"
   ]
  },
  {
   "cell_type": "code",
   "execution_count": 10,
   "metadata": {},
   "outputs": [
    {
     "data": {
      "text/html": [
       "<div>\n",
       "<style scoped>\n",
       "    .dataframe tbody tr th:only-of-type {\n",
       "        vertical-align: middle;\n",
       "    }\n",
       "\n",
       "    .dataframe tbody tr th {\n",
       "        vertical-align: top;\n",
       "    }\n",
       "\n",
       "    .dataframe thead th {\n",
       "        text-align: right;\n",
       "    }\n",
       "</style>\n",
       "<table border=\"1\" class=\"dataframe\">\n",
       "  <thead>\n",
       "    <tr style=\"text-align: right;\">\n",
       "      <th></th>\n",
       "      <th>instant</th>\n",
       "      <th>season</th>\n",
       "      <th>year</th>\n",
       "      <th>month</th>\n",
       "      <th>hour</th>\n",
       "      <th>holiday</th>\n",
       "      <th>weekday</th>\n",
       "      <th>workingday</th>\n",
       "      <th>weather</th>\n",
       "      <th>temp</th>\n",
       "      <th>atemp</th>\n",
       "      <th>humidity</th>\n",
       "      <th>windspeed</th>\n",
       "      <th>casual</th>\n",
       "      <th>registered</th>\n",
       "      <th>count</th>\n",
       "      <th>day</th>\n",
       "    </tr>\n",
       "  </thead>\n",
       "  <tbody>\n",
       "    <tr>\n",
       "      <th>0</th>\n",
       "      <td>1</td>\n",
       "      <td>1</td>\n",
       "      <td>1</td>\n",
       "      <td>1</td>\n",
       "      <td>0</td>\n",
       "      <td>0</td>\n",
       "      <td>6</td>\n",
       "      <td>0</td>\n",
       "      <td>1</td>\n",
       "      <td>0.322571</td>\n",
       "      <td>0.2879</td>\n",
       "      <td>0.907546</td>\n",
       "      <td>0.0</td>\n",
       "      <td>3</td>\n",
       "      <td>13</td>\n",
       "      <td>16</td>\n",
       "      <td>1</td>\n",
       "    </tr>\n",
       "    <tr>\n",
       "      <th>1</th>\n",
       "      <td>2</td>\n",
       "      <td>1</td>\n",
       "      <td>1</td>\n",
       "      <td>1</td>\n",
       "      <td>1</td>\n",
       "      <td>0</td>\n",
       "      <td>6</td>\n",
       "      <td>0</td>\n",
       "      <td>1</td>\n",
       "      <td>0.312241</td>\n",
       "      <td>0.2727</td>\n",
       "      <td>0.915998</td>\n",
       "      <td>0.0</td>\n",
       "      <td>8</td>\n",
       "      <td>32</td>\n",
       "      <td>40</td>\n",
       "      <td>1</td>\n",
       "    </tr>\n",
       "  </tbody>\n",
       "</table>\n",
       "</div>"
      ],
      "text/plain": [
       "   instant season year month hour holiday weekday workingday weather  \\\n",
       "0        1      1    1     1    0       0       6          0       1   \n",
       "1        2      1    1     1    1       0       6          0       1   \n",
       "\n",
       "       temp   atemp  humidity  windspeed  casual  registered  count  day  \n",
       "0  0.322571  0.2879  0.907546        0.0       3          13     16    1  \n",
       "1  0.312241  0.2727  0.915998        0.0       8          32     40    1  "
      ]
     },
     "metadata": {},
     "output_type": "display_data"
    }
   ],
   "source": [
    "hour_data_norm_subset = hour_data.loc[:, \"temp\":\"windspeed\"]\n",
    "\n",
    "hour_data2 = preprocessing.normalize(hour_data_norm_subset)\n",
    "\n",
    "hour_data3 = pd.DataFrame(hour_data2)\n",
    "\n",
    "hour_data3.columns = [\"temp\", \"atemp\", \"humidity\", \"windspeed\"]\n",
    "\n",
    "hour_data[\"temp\"] = hour_data3[\"temp\"]\n",
    "hour_data[\"temp\"] = hour_data3[\"atemp\"]\n",
    "hour_data[\"windspeed\"] = hour_data3[\"windspeed\"]\n",
    "hour_data[\"humidity\"] = hour_data3[\"humidity\"]\n",
    "display(hour_data.head(2))"
   ]
  },
  {
   "cell_type": "markdown",
   "metadata": {},
   "source": [
    "## III) Fix Skewness"
   ]
  },
  {
   "cell_type": "markdown",
   "metadata": {},
   "source": [
    "The skewness of the float variables are fixed"
   ]
  },
  {
   "cell_type": "code",
   "execution_count": 11,
   "metadata": {},
   "outputs": [
    {
     "data": {
      "text/html": [
       "<div>\n",
       "<style scoped>\n",
       "    .dataframe tbody tr th:only-of-type {\n",
       "        vertical-align: middle;\n",
       "    }\n",
       "\n",
       "    .dataframe tbody tr th {\n",
       "        vertical-align: top;\n",
       "    }\n",
       "\n",
       "    .dataframe thead th {\n",
       "        text-align: right;\n",
       "    }\n",
       "</style>\n",
       "<table border=\"1\" class=\"dataframe\">\n",
       "  <thead>\n",
       "    <tr style=\"text-align: right;\">\n",
       "      <th></th>\n",
       "      <th>instant</th>\n",
       "      <th>season</th>\n",
       "      <th>year</th>\n",
       "      <th>month</th>\n",
       "      <th>hour</th>\n",
       "      <th>holiday</th>\n",
       "      <th>weekday</th>\n",
       "      <th>workingday</th>\n",
       "      <th>weather</th>\n",
       "      <th>temp</th>\n",
       "      <th>atemp</th>\n",
       "      <th>humidity</th>\n",
       "      <th>windspeed</th>\n",
       "      <th>casual</th>\n",
       "      <th>registered</th>\n",
       "      <th>count</th>\n",
       "      <th>day</th>\n",
       "    </tr>\n",
       "  </thead>\n",
       "  <tbody>\n",
       "    <tr>\n",
       "      <th>0</th>\n",
       "      <td>1</td>\n",
       "      <td>1</td>\n",
       "      <td>1</td>\n",
       "      <td>1</td>\n",
       "      <td>0</td>\n",
       "      <td>0</td>\n",
       "      <td>6</td>\n",
       "      <td>0</td>\n",
       "      <td>1</td>\n",
       "      <td>0.322571</td>\n",
       "      <td>0.2879</td>\n",
       "      <td>0.907546</td>\n",
       "      <td>0.0</td>\n",
       "      <td>1.514787</td>\n",
       "      <td>4.290997</td>\n",
       "      <td>4.889385</td>\n",
       "      <td>1</td>\n",
       "    </tr>\n",
       "    <tr>\n",
       "      <th>1</th>\n",
       "      <td>2</td>\n",
       "      <td>1</td>\n",
       "      <td>1</td>\n",
       "      <td>1</td>\n",
       "      <td>1</td>\n",
       "      <td>0</td>\n",
       "      <td>6</td>\n",
       "      <td>0</td>\n",
       "      <td>1</td>\n",
       "      <td>0.312241</td>\n",
       "      <td>0.2727</td>\n",
       "      <td>0.915998</td>\n",
       "      <td>0.0</td>\n",
       "      <td>2.531634</td>\n",
       "      <td>6.753603</td>\n",
       "      <td>7.720329</td>\n",
       "      <td>1</td>\n",
       "    </tr>\n",
       "    <tr>\n",
       "      <th>2</th>\n",
       "      <td>3</td>\n",
       "      <td>1</td>\n",
       "      <td>1</td>\n",
       "      <td>1</td>\n",
       "      <td>2</td>\n",
       "      <td>0</td>\n",
       "      <td>6</td>\n",
       "      <td>0</td>\n",
       "      <td>1</td>\n",
       "      <td>0.312241</td>\n",
       "      <td>0.2727</td>\n",
       "      <td>0.915998</td>\n",
       "      <td>0.0</td>\n",
       "      <td>2.010221</td>\n",
       "      <td>6.224045</td>\n",
       "      <td>6.937960</td>\n",
       "      <td>1</td>\n",
       "    </tr>\n",
       "    <tr>\n",
       "      <th>3</th>\n",
       "      <td>4</td>\n",
       "      <td>1</td>\n",
       "      <td>1</td>\n",
       "      <td>1</td>\n",
       "      <td>3</td>\n",
       "      <td>0</td>\n",
       "      <td>6</td>\n",
       "      <td>0</td>\n",
       "      <td>1</td>\n",
       "      <td>0.343375</td>\n",
       "      <td>0.2879</td>\n",
       "      <td>0.894515</td>\n",
       "      <td>0.0</td>\n",
       "      <td>1.514787</td>\n",
       "      <td>3.719130</td>\n",
       "      <td>4.375614</td>\n",
       "      <td>1</td>\n",
       "    </tr>\n",
       "    <tr>\n",
       "      <th>4</th>\n",
       "      <td>5</td>\n",
       "      <td>1</td>\n",
       "      <td>1</td>\n",
       "      <td>1</td>\n",
       "      <td>4</td>\n",
       "      <td>0</td>\n",
       "      <td>6</td>\n",
       "      <td>0</td>\n",
       "      <td>1</td>\n",
       "      <td>0.343375</td>\n",
       "      <td>0.2879</td>\n",
       "      <td>0.894515</td>\n",
       "      <td>0.0</td>\n",
       "      <td>0.000000</td>\n",
       "      <td>0.782406</td>\n",
       "      <td>0.786040</td>\n",
       "      <td>1</td>\n",
       "    </tr>\n",
       "  </tbody>\n",
       "</table>\n",
       "</div>"
      ],
      "text/plain": [
       "   instant season year month hour holiday weekday workingday weather  \\\n",
       "0        1      1    1     1    0       0       6          0       1   \n",
       "1        2      1    1     1    1       0       6          0       1   \n",
       "2        3      1    1     1    2       0       6          0       1   \n",
       "3        4      1    1     1    3       0       6          0       1   \n",
       "4        5      1    1     1    4       0       6          0       1   \n",
       "\n",
       "       temp   atemp  humidity  windspeed    casual  registered     count  day  \n",
       "0  0.322571  0.2879  0.907546        0.0  1.514787    4.290997  4.889385    1  \n",
       "1  0.312241  0.2727  0.915998        0.0  2.531634    6.753603  7.720329    1  \n",
       "2  0.312241  0.2727  0.915998        0.0  2.010221    6.224045  6.937960    1  \n",
       "3  0.343375  0.2879  0.894515        0.0  1.514787    3.719130  4.375614    1  \n",
       "4  0.343375  0.2879  0.894515        0.0  0.000000    0.782406  0.786040    1  "
      ]
     },
     "execution_count": 11,
     "metadata": {},
     "output_type": "execute_result"
    }
   ],
   "source": [
    "def feature_skewness(df):\n",
    "    numeric_dtypes = [\"int64\", \"float64\"]\n",
    "    numeric_features = []\n",
    "    for i in df.columns:\n",
    "        if df[i].dtypes in numeric_dtypes:\n",
    "            numeric_features.append(i)\n",
    "\n",
    "    feature_skew = (\n",
    "        df[numeric_features].apply(lambda x: skew(x)).sort_values(ascending=False)\n",
    "    )\n",
    "    skews = pd.DataFrame({\"skew\": feature_skew})\n",
    "    return feature_skew, numeric_features\n",
    "\n",
    "\n",
    "def fix_skewness(df):\n",
    "    feature_skew, numeric_features = feature_skewness(df)\n",
    "    high_skew = feature_skew[feature_skew > 0.5]\n",
    "    skew_index = high_skew.index\n",
    "\n",
    "    for i in skew_index:\n",
    "        df[i] = boxcox1p(df[i], boxcox_normmax(df[i] + 1))\n",
    "\n",
    "    skew_features = (\n",
    "        df[numeric_features].apply(lambda x: skew(x)).sort_values(ascending=False)\n",
    "    )\n",
    "    skews = pd.DataFrame({\"skew\": skew_features})\n",
    "    return df\n",
    "\n",
    "\n",
    "fix_skewness(hour_data)\n",
    "hour_data.head()"
   ]
  },
  {
   "cell_type": "markdown",
   "metadata": {},
   "source": [
    "## IV) One hot encoding"
   ]
  },
  {
   "cell_type": "code",
   "execution_count": 12,
   "metadata": {},
   "outputs": [],
   "source": [
    "def numerical_features(df):\n",
    "    columns = df.columns\n",
    "    return df._get_numeric_data().columns\n",
    "\n",
    "\n",
    "def categorical_features(df):\n",
    "    numerical_columns = numerical_features(df)\n",
    "    return list(set(df.columns) - set(numerical_columns))\n",
    "\n",
    "\n",
    "def onehot_encode(df):\n",
    "    numericals = df.get(numerical_features(df))\n",
    "    new_df = numericals.copy()\n",
    "    for categorical_column in categorical_features(df):\n",
    "        new_df = pd.concat(\n",
    "            [new_df, pd.get_dummies(df[categorical_column], prefix=categorical_column)],\n",
    "            axis=1,\n",
    "        )\n",
    "    return new_df\n",
    "\n",
    "\n",
    "def onehot_encode_single(df, col_to_encode, drop=True):\n",
    "    if type(col_to_encode) != str:\n",
    "        raise TypeError(\"col_to_encode should be a string.\")\n",
    "    new_df = df.copy()\n",
    "\n",
    "    if drop == True:\n",
    "        new_df = new_df.drop([col_to_encode], axis=1)\n",
    "\n",
    "    new_df = pd.concat(\n",
    "        [new_df, pd.get_dummies(df[col_to_encode], prefix=col_to_encode)], axis=1\n",
    "    )\n",
    "    return new_df"
   ]
  },
  {
   "cell_type": "markdown",
   "metadata": {},
   "source": [
    "We take a copy before hot encoding to be used later after FE."
   ]
  },
  {
   "cell_type": "code",
   "execution_count": 13,
   "metadata": {},
   "outputs": [],
   "source": [
    "hour_data_cl = hour_data.copy()"
   ]
  },
  {
   "cell_type": "markdown",
   "metadata": {},
   "source": [
    "### One hot encoding for baseline"
   ]
  },
  {
   "cell_type": "code",
   "execution_count": 14,
   "metadata": {},
   "outputs": [],
   "source": [
    "hour_data_cl_hot_encoded = onehot_encode(hour_data)"
   ]
  },
  {
   "cell_type": "markdown",
   "metadata": {},
   "source": [
    "Renaming the onehot encoded variables into understandble variable names for the data scientist."
   ]
  },
  {
   "cell_type": "code",
   "execution_count": 15,
   "metadata": {},
   "outputs": [],
   "source": [
    "hour_data_cl_hot_encoded.rename(\n",
    "    columns={\n",
    "        \"holiday_0\": \"no_holiday\",\n",
    "        \"holiday_1\": \"yes_holiday\",\n",
    "        \"month_1\": \"jan\",\n",
    "        \"month_2\": \"feb\",\n",
    "        \"month_3\": \"mar\",\n",
    "        \"month_4\": \"apr\",\n",
    "        \"month_5\": \"may\",\n",
    "        \"month_6\": \"jun\",\n",
    "        \"month_7\": \"jul\",\n",
    "        \"month_8\": \"aug\",\n",
    "        \"month_9\": \"sep\",\n",
    "        \"month_10\": \"oct\",\n",
    "        \"month_11\": \"nov\",\n",
    "        \"month_12\": \"dec\",\n",
    "        \"weekday_0\": \"sun\",\n",
    "        \"weekday_1\": \"mon\",\n",
    "        \"weekday_2\": \"tue\",\n",
    "        \"weekday_3\": \"wed\",\n",
    "        \"weekday_4\": \"thu\",\n",
    "        \"weekday_5\": \"fri\",\n",
    "        \"weekday_6\": \"sat\",\n",
    "        \"season_1\": \"winter\",\n",
    "        \"season_2\": \"spring\",\n",
    "        \"season_3\": \"summer\",\n",
    "        \"season_4\": \"autumn\",\n",
    "    },\n",
    "    inplace=True,\n",
    ")\n"
   ]
  },
  {
   "cell_type": "markdown",
   "metadata": {},
   "source": [
    "# 5. Splitting the Dataset"
   ]
  },
  {
   "cell_type": "code",
   "execution_count": 93,
   "metadata": {},
   "outputs": [],
   "source": [
    "def split_data(dataset, Target):\n",
    "    X = dataset.loc[:, dataset.columns != Target]\n",
    "    y = dataset.loc[:, Target]\n",
    "    train_size = int(len(dataset) * 0.875)\n",
    "    X_train, X_test, y_train, y_test = (\n",
    "        X[0:train_size],\n",
    "        X[train_size : len(dataset)],\n",
    "        y[0:train_size],\n",
    "        y[train_size : len(dataset)],\n",
    "    )\n",
    "    return X_train, X_test, y_train, y_test"
   ]
  },
  {
   "cell_type": "code",
   "execution_count": 22,
   "metadata": {},
   "outputs": [],
   "source": [
    "x_train_reg, x_test_reg, y_train_reg, y_test_reg = split_data(hour_data_cl_hot_encoded, \"registered\")\n",
    "x_train_casual, x_test_casual, y_train_casual, y_test_casual = split_data(hour_data_cl_hot_encoded, \"casual\")\n",
    "x_train_count, x_test_count, y_train_count, y_test_count = split_data(hour_data_cl_hot_encoded, \"count\")"
   ]
  },
  {
   "cell_type": "code",
   "execution_count": 23,
   "metadata": {},
   "outputs": [],
   "source": [
    "def score_lin(X_train, X_test, y_train, y_test):\n",
    "    lm = linear_model.LinearRegression()\n",
    "    lm.fit(X_train, y_train)\n",
    "    y_pred = lm.predict(X_test)\n",
    "    print(\"Intercept:\", lm.intercept_)\n",
    "    print(\"Coefficients:\", lm.coef_)\n",
    "    print(\"Mean squared error (MSE): {:.2f}\".format(mean_squared_error(y_test, y_pred)))\n",
    "    print(\"Variance score (R2): {:.2f}\".format(r2_score(y_test, y_pred)))\n",
    "    return y_pred"
   ]
  },
  {
   "cell_type": "code",
   "execution_count": 24,
   "metadata": {},
   "outputs": [
    {
     "name": "stdout",
     "output_type": "stream",
     "text": [
      "Intercept: 8.158560480006036\n",
      "Coefficients: [ 3.18182307e-04  1.83112111e+00  4.53696218e+00 -2.59161264e+00\n",
      " -1.77207409e+00 -3.76929155e-03  3.00210674e-01 -3.00210674e-01\n",
      " -4.62540170e+00 -6.51925891e+00 -7.72682868e+00 -9.12726260e+00\n",
      " -9.90317829e+00 -7.50759588e+00 -3.14159134e+00  1.88204277e+00\n",
      "  5.70168194e+00  2.87519001e+00  9.93487316e-01  1.74687067e+00\n",
      "  2.91185508e+00  2.77982631e+00  2.29146136e+00  2.56930939e+00\n",
      "  4.31176662e+00  7.55210757e+00  6.98883403e+00  4.78172192e+00\n",
      "  2.68851657e+00  1.11996723e+00 -3.27568749e-01 -2.31595264e+00\n",
      "  6.03922186e-01  4.57337551e-01 -7.83756980e-01 -2.77502758e-01\n",
      "  6.03922186e-01  4.57337551e-01 -7.83756980e-01 -2.77502758e-01\n",
      " -6.95565553e-02  6.95565553e-02 -8.50034989e-02  4.18641646e-02\n",
      " -3.77571149e-01  1.02081914e-01  6.81057827e-01  4.62584967e-01\n",
      " -3.10661907e-01 -1.09545049e-01  2.83783045e-01  2.97440131e-01\n",
      " -4.28420349e-01 -5.57610095e-01 -9.96656419e-02 -2.11194240e-01\n",
      " -2.05938917e-01 -1.39162967e-01 -1.12502264e-02  3.36892231e-01\n",
      "  3.30319761e-01 -6.00749429e-01  4.05568592e-01  4.23780111e-02\n",
      "  1.52802826e-01]\n",
      "Mean squared error (MSE): 12.06\n",
      "Variance score (R2): 0.75\n"
     ]
    }
   ],
   "source": [
    "##  baseline predictions and score for count\n",
    "train_dropped_target = x_train_count.drop([\"casual\", \"registered\"], axis = 1)\n",
    "test_dropped_target = x_test_count.drop([\"casual\", \"registered\"], axis = 1)\n",
    "baseline_registered_count = score_lin(train_dropped_target, test_dropped_target, y_train_count, y_test_count)"
   ]
  },
  {
   "cell_type": "code",
   "execution_count": 25,
   "metadata": {},
   "outputs": [
    {
     "name": "stdout",
     "output_type": "stream",
     "text": [
      "Intercept: 6.308753294215782\n",
      "Coefficients: [ 2.94752512e-04  2.69777301e+00  2.51926161e+00 -1.24720376e+00\n",
      " -6.19853899e-01 -2.38177652e-03  2.89324674e-01 -2.89324674e-01\n",
      " -4.08723741e+00 -5.82464211e+00 -6.92077531e+00 -8.12704054e+00\n",
      " -8.78006249e+00 -6.39739039e+00 -2.34661081e+00  2.25169018e+00\n",
      "  5.71912166e+00  2.78713354e+00  4.64863918e-01  1.03020769e+00\n",
      "  2.17875604e+00  1.98999913e+00  1.38241156e+00  1.71491771e+00\n",
      "  3.58766626e+00  6.80854536e+00  6.45497943e+00  4.43509546e+00\n",
      "  2.56924652e+00  1.18026524e+00 -1.34656063e-01 -1.93648455e+00\n",
      "  4.85110909e-01  3.87988725e-01 -6.60881803e-01 -2.12217831e-01\n",
      "  4.85110909e-01  3.87988725e-01 -6.60881803e-01 -2.12217831e-01\n",
      " -4.09688278e-01  4.09688278e-01 -3.65900027e-02  8.55732469e-02\n",
      " -3.72460689e-01  6.36303984e-03  5.65989403e-01  4.20061750e-01\n",
      " -2.40330266e-01 -9.93393161e-02  2.44949614e-01  2.03079236e-01\n",
      " -3.23242808e-01 -4.54053209e-01 -2.61568120e-01 -2.12501882e-01\n",
      " -7.38119064e-02  2.35903830e-02  1.26380389e-01  2.56706621e-01\n",
      "  1.41204516e-01 -4.05069964e-01  1.99891754e-01  8.03921679e-02\n",
      "  1.24786042e-01]\n",
      "Mean squared error (MSE): 10.22\n",
      "Variance score (R2): 0.73\n"
     ]
    }
   ],
   "source": [
    "##  baseline predictions and score for registered\n",
    "train_dropped_target = x_train_reg.drop([\"casual\", \"count\"], axis = 1)\n",
    "test_dropped_target = x_test_reg.drop([\"casual\", \"count\"], axis = 1)\n",
    "baseline_registered_pred = score_lin(train_dropped_target, test_dropped_target, y_train_reg, y_test_reg)"
   ]
  },
  {
   "cell_type": "code",
   "execution_count": 26,
   "metadata": {
    "scrolled": true
   },
   "outputs": [
    {
     "name": "stdout",
     "output_type": "stream",
     "text": [
      "Intercept: 1.9298963792598376\n",
      "Coefficients: [ 4.82403221e-05  8.42263344e-01  2.62793758e+00 -1.04030974e+00\n",
      " -9.28416981e-01  1.99431491e-04  3.22043172e-02 -3.22043172e-02\n",
      " -9.33215163e-01 -1.45033887e+00 -1.80112343e+00 -2.27608992e+00\n",
      " -2.59360289e+00 -2.41147402e+00 -1.56217393e+00 -5.24275249e-01\n",
      "  2.96625195e-01  5.80540677e-01  9.43936150e-01  1.17278550e+00\n",
      "  1.29407904e+00  1.29607757e+00  1.32362819e+00  1.31360963e+00\n",
      "  1.34344652e+00  1.49360601e+00  1.22216634e+00  9.17159356e-01\n",
      "  5.40381115e-01  2.51123764e-01 -1.33949061e-02 -4.23476664e-01\n",
      "  2.10881491e-01  1.53314828e-01 -2.38352770e-01 -1.25843549e-01\n",
      "  2.10881491e-01  1.53314828e-01 -2.38352770e-01 -1.25843549e-01\n",
      "  3.73407725e-01 -3.73407725e-01 -1.56979811e-01 -1.07234249e-01\n",
      " -5.47922640e-02  8.48049296e-02  2.45781974e-01  1.19351920e-01\n",
      " -7.15996232e-02  2.28693330e-02  1.09626897e-01  1.95286889e-01\n",
      " -2.32934427e-01 -1.54181567e-01  1.82921066e-01 -2.14613396e-02\n",
      " -1.85831919e-01 -2.14787242e-01 -1.61970404e-01  1.78438862e-01\n",
      "  2.22690976e-01 -4.18395628e-01  2.75794640e-01  7.06216296e-02\n",
      "  7.19793584e-02]\n",
      "Mean squared error (MSE): 0.79\n",
      "Variance score (R2): 0.81\n"
     ]
    }
   ],
   "source": [
    "##  baseline predictions and score for casual\n",
    "train_dropped_target = x_train_casual.drop([\"registered\", \"count\"], axis = 1)\n",
    "test_dropped_target = x_test_casual.drop([\"registered\", \"count\"], axis = 1)\n",
    "baseline_casual_pred = score_lin(train_dropped_target, test_dropped_target, y_train_casual, y_test_casual)"
   ]
  },
  {
   "cell_type": "markdown",
   "metadata": {},
   "source": [
    "### Summing reg and cas predictions"
   ]
  },
  {
   "cell_type": "code",
   "execution_count": 27,
   "metadata": {},
   "outputs": [],
   "source": [
    "pred_summed = baseline_registered_pred + baseline_casual_pred"
   ]
  },
  {
   "cell_type": "markdown",
   "metadata": {},
   "source": [
    "### Baseline Score on test dataset after summing"
   ]
  },
  {
   "cell_type": "code",
   "execution_count": 28,
   "metadata": {},
   "outputs": [],
   "source": [
    "def r2score(x,y):\n",
    "    s = explained_variance_score(x,y)\n",
    "    return s"
   ]
  },
  {
   "cell_type": "code",
   "execution_count": 29,
   "metadata": {},
   "outputs": [
    {
     "data": {
      "text/plain": [
       "0.7627834848447163"
      ]
     },
     "execution_count": 29,
     "metadata": {},
     "output_type": "execute_result"
    }
   ],
   "source": [
    "r2score( x_test_casual[\"count\"] ,pred_summed   )"
   ]
  },
  {
   "cell_type": "markdown",
   "metadata": {},
   "source": [
    "We can already see that predicting casual and registered seperately gets a better result than predicting count, with Rsquared scores of 0,76 for reg/count and 0,75 for count."
   ]
  },
  {
   "cell_type": "markdown",
   "metadata": {},
   "source": [
    "## 6. Feature Engineering"
   ]
  },
  {
   "cell_type": "markdown",
   "metadata": {},
   "source": [
    "## I) Quantile Bins"
   ]
  },
  {
   "cell_type": "code",
   "execution_count": 30,
   "metadata": {},
   "outputs": [],
   "source": [
    "quantile_list = [0, 0.25, 0.5, 0.75, 1.0]\n",
    "quantiles = hour_data_cl[\"humidity\"].quantile(quantile_list)\n",
    "quantiles\n",
    "quantile_labels = [\"0-25Q\", \"25-50Q\", \"50-75Q\", \"75-100Q\"]\n",
    "hour_data_cl[\"Hum_Quantile\"] = pd.qcut(hour_data_cl[\"humidity\"], q=quantile_list)\n",
    "hour_data_cl[\"Hum_Quantile_label\"] = pd.qcut(\n",
    "    hour_data_cl[\"humidity\"], q=quantile_list, labels=quantile_labels\n",
    ")\n",
    "hour_data_cl.drop([\"Hum_Quantile\"], axis=1, inplace=True)"
   ]
  },
  {
   "cell_type": "code",
   "execution_count": 31,
   "metadata": {},
   "outputs": [],
   "source": [
    "quantiles = hour_data_cl[\"temp\"].quantile(quantile_list)\n",
    "quantiles\n",
    "quantile_labels = [\"0-25Q\", \"25-50Q\", \"50-75Q\", \"75-100Q\"]\n",
    "hour_data_cl[\"Temp_Quantile\"] = pd.qcut(hour_data_cl[\"temp\"], q=quantile_list)\n",
    "hour_data_cl[\"Temp_Quantile_label\"] = pd.qcut(\n",
    "    hour_data_cl[\"temp\"], q=quantile_list, labels=quantile_labels\n",
    ")\n",
    "hour_data_cl.drop([\"Temp_Quantile\"], axis=1, inplace=True)"
   ]
  },
  {
   "cell_type": "code",
   "execution_count": 32,
   "metadata": {},
   "outputs": [],
   "source": [
    "quantiles = hour_data_cl[\"atemp\"].quantile(quantile_list)\n",
    "quantiles\n",
    "quantile_labels = [\"0-25Q\", \"25-50Q\", \"50-75Q\", \"75-100Q\"]\n",
    "hour_data_cl[\"aTemp_Quantile\"] = pd.qcut(hour_data_cl[\"atemp\"], q=quantile_list)\n",
    "hour_data_cl[\"aTemp_Quantile_label\"] = pd.qcut(\n",
    "    hour_data_cl[\"atemp\"], q=quantile_list, labels=quantile_labels\n",
    ")\n",
    "hour_data_cl.drop([\"aTemp_Quantile\"], axis=1, inplace=True)"
   ]
  },
  {
   "cell_type": "code",
   "execution_count": 33,
   "metadata": {},
   "outputs": [],
   "source": [
    "quantiles = hour_data_cl[\"windspeed\"].quantile(quantile_list)\n",
    "quantiles\n",
    "quantile_labels = [\"0-25Q\", \"25-50Q\", \"50-75Q\", \"75-100Q\"]\n",
    "hour_data_cl[\"WS_Quantile\"] = pd.qcut(hour_data_cl[\"windspeed\"], q=quantile_list)\n",
    "hour_data_cl[\"WS_Quantile_label\"] = pd.qcut(\n",
    "    hour_data_cl[\"windspeed\"], q=quantile_list, labels=quantile_labels\n",
    ")\n",
    "hour_data_cl.drop([\"WS_Quantile\"], axis=1, inplace=True)"
   ]
  },
  {
   "cell_type": "code",
   "execution_count": 34,
   "metadata": {},
   "outputs": [],
   "source": [
    "hour_data_FE_hot_encoded = onehot_encode(hour_data_cl)"
   ]
  },
  {
   "cell_type": "markdown",
   "metadata": {},
   "source": [
    "## II) Splitting + one hot encoding"
   ]
  },
  {
   "cell_type": "code",
   "execution_count": 35,
   "metadata": {},
   "outputs": [],
   "source": [
    "x_train_reg, x_test_reg, y_train_reg, y_test_reg = split_data(hour_data_FE_hot_encoded, \"registered\")\n",
    "x_train_casual, x_test_casual, y_train_casual, y_test_casual = split_data(hour_data_FE_hot_encoded, \"casual\")"
   ]
  },
  {
   "cell_type": "markdown",
   "metadata": {},
   "source": [
    "### Scoring model function"
   ]
  },
  {
   "cell_type": "code",
   "execution_count": 36,
   "metadata": {},
   "outputs": [],
   "source": [
    "models = [\n",
    "            (\"Linear Regression\", LinearRegression()),\n",
    "            (\"Ridge\", Ridge()),\n",
    "            (\"Huber Regressors\" ,HuberRegressor()),\n",
    "            (\"Descicion Tree Regressor\" ,DecisionTreeRegressor()), \n",
    "            (\"Extra Trees Regressor\" ,ExtraTreesRegressor()),\n",
    "            (\"Gradient Boosting Regressor\" ,GradientBoostingRegressor()),\n",
    "            (\"Random Forest Regressor\" ,RandomForestRegressor()),\n",
    "            (\"BaggingRegressor\" ,BaggingRegressor()),\n",
    "        ]\n",
    "\n",
    "def score_one_model(x_train, x_test, y_train, y_test, modelTuple):\n",
    "    model = clone(modelTuple[1])\n",
    "    model.fit(x_train, y_train)\n",
    "    y_pred = model.predict(x_test)\n",
    "    print(modelTuple[0])\n",
    "    print(\n",
    "        \"Mean squared error (MSE): {:.2f}\".format(mean_squared_error(y_test, y_pred))\n",
    "    )\n",
    "    print(\"Variance score (R2): {:.2f}\".format(r2_score(y_test, y_pred)))\n",
    "    print(\"----------------------------\\n\")\n",
    "    \n",
    "    return y_pred"
   ]
  },
  {
   "cell_type": "markdown",
   "metadata": {},
   "source": [
    "# 7. Ensembling"
   ]
  },
  {
   "cell_type": "markdown",
   "metadata": {},
   "source": [
    "## I) Splitting scoring for Casual and Registered"
   ]
  },
  {
   "cell_type": "markdown",
   "metadata": {},
   "source": [
    "Our approach to further improve our score is to mimic casual and registered by predicting for them with different models and then ensemble the predictions of the highest scoring models."
   ]
  },
  {
   "cell_type": "markdown",
   "metadata": {},
   "source": [
    "### a) Scoring for registered after FE"
   ]
  },
  {
   "cell_type": "code",
   "execution_count": 37,
   "metadata": {},
   "outputs": [
    {
     "name": "stdout",
     "output_type": "stream",
     "text": [
      "Linear Regression\n",
      "Mean squared error (MSE): 10.32\n",
      "Variance score (R2): 0.73\n",
      "----------------------------\n",
      "\n",
      "Ridge\n",
      "Mean squared error (MSE): 10.32\n",
      "Variance score (R2): 0.73\n",
      "----------------------------\n",
      "\n",
      "Huber Regressors\n",
      "Mean squared error (MSE): 22.77\n",
      "Variance score (R2): 0.40\n",
      "----------------------------\n",
      "\n",
      "Descicion Tree Regressor\n",
      "Mean squared error (MSE): 10.71\n",
      "Variance score (R2): 0.72\n",
      "----------------------------\n",
      "\n",
      "Extra Trees Regressor\n",
      "Mean squared error (MSE): 5.51\n",
      "Variance score (R2): 0.86\n",
      "----------------------------\n",
      "\n",
      "Gradient Boosting Regressor\n",
      "Mean squared error (MSE): 9.13\n",
      "Variance score (R2): 0.76\n",
      "----------------------------\n",
      "\n",
      "Random Forest Regressor\n",
      "Mean squared error (MSE): 6.16\n",
      "Variance score (R2): 0.84\n",
      "----------------------------\n",
      "\n",
      "BaggingRegressor\n",
      "Mean squared error (MSE): 5.79\n",
      "Variance score (R2): 0.85\n",
      "----------------------------\n",
      "\n"
     ]
    }
   ],
   "source": [
    "train_reg_dropped_target = x_train_reg.drop([\"casual\", \"count\"], axis = 1)\n",
    "test_reg_dropped_target = x_test_reg.drop([\"casual\", \"count\"], axis = 1)\n",
    "\n",
    "for model in models:\n",
    "    score_one_model(train_reg_dropped_target, test_reg_dropped_target, y_train_reg, y_test_reg, model)"
   ]
  },
  {
   "cell_type": "markdown",
   "metadata": {},
   "source": [
    "ExtraTreesRegressor is the best model with a score of 0,87. This is why we are going to store its predictions to sum and get a final score later."
   ]
  },
  {
   "cell_type": "code",
   "execution_count": 38,
   "metadata": {},
   "outputs": [
    {
     "name": "stdout",
     "output_type": "stream",
     "text": [
      "Extra Trees Regressor\n",
      "Mean squared error (MSE): 5.04\n",
      "Variance score (R2): 0.87\n",
      "----------------------------\n",
      "\n"
     ]
    }
   ],
   "source": [
    "FE_registered_pred = score_one_model(train_reg_dropped_target, test_reg_dropped_target, y_train_reg, y_test_reg,\n",
    "                                     models[4]) ## 4 is the index of Extra Trees Regressor in models array"
   ]
  },
  {
   "cell_type": "markdown",
   "metadata": {},
   "source": [
    "### b) Scoring for casual after FE"
   ]
  },
  {
   "cell_type": "code",
   "execution_count": 39,
   "metadata": {},
   "outputs": [
    {
     "name": "stdout",
     "output_type": "stream",
     "text": [
      "Linear Regression\n",
      "Mean squared error (MSE): 0.78\n",
      "Variance score (R2): 0.81\n",
      "----------------------------\n",
      "\n",
      "Ridge\n",
      "Mean squared error (MSE): 0.78\n",
      "Variance score (R2): 0.81\n",
      "----------------------------\n",
      "\n",
      "Huber Regressors\n",
      "Mean squared error (MSE): 1.50\n",
      "Variance score (R2): 0.63\n",
      "----------------------------\n",
      "\n",
      "Descicion Tree Regressor\n",
      "Mean squared error (MSE): 2.58\n",
      "Variance score (R2): 0.36\n",
      "----------------------------\n",
      "\n",
      "Extra Trees Regressor\n",
      "Mean squared error (MSE): 0.99\n",
      "Variance score (R2): 0.76\n",
      "----------------------------\n",
      "\n",
      "Gradient Boosting Regressor\n",
      "Mean squared error (MSE): 1.00\n",
      "Variance score (R2): 0.75\n",
      "----------------------------\n",
      "\n",
      "Random Forest Regressor\n",
      "Mean squared error (MSE): 1.80\n",
      "Variance score (R2): 0.56\n",
      "----------------------------\n",
      "\n",
      "BaggingRegressor\n",
      "Mean squared error (MSE): 2.49\n",
      "Variance score (R2): 0.39\n",
      "----------------------------\n",
      "\n"
     ]
    }
   ],
   "source": [
    "##  baseline predictions and score for casual\n",
    "train_cas_dropped_target = x_train_casual.drop([\"registered\", \"count\"], axis = 1)\n",
    "test_cas_dropped_target = x_test_casual.drop([\"registered\", \"count\"], axis = 1)\n",
    "\n",
    "\n",
    "## scoring for casual\n",
    "for model in models:\n",
    "    score_one_model(train_cas_dropped_target, test_cas_dropped_target, y_train_casual, y_test_casual, model)"
   ]
  },
  {
   "cell_type": "markdown",
   "metadata": {},
   "source": [
    "Linear Regression is the best model for casual with 0,81. Again, we are store its predictions to sum and get a final score later."
   ]
  },
  {
   "cell_type": "code",
   "execution_count": 63,
   "metadata": {},
   "outputs": [
    {
     "name": "stdout",
     "output_type": "stream",
     "text": [
      "Linear Regression\n",
      "Mean squared error (MSE): 0.79\n",
      "Variance score (R2): 0.81\n",
      "----------------------------\n",
      "\n"
     ]
    }
   ],
   "source": [
    "FE_casual_pred = score_one_model(train_dropped_target, test_dropped_target, y_train_casual, y_test_casual,\n",
    "                                 models[0]) ## 4 is the index of Linear in models array"
   ]
  },
  {
   "cell_type": "markdown",
   "metadata": {},
   "source": [
    "### c) Final summed score after FE"
   ]
  },
  {
   "cell_type": "code",
   "execution_count": 41,
   "metadata": {},
   "outputs": [],
   "source": [
    "pred_summed = FE_registered_pred + FE_casual_pred"
   ]
  },
  {
   "cell_type": "code",
   "execution_count": 42,
   "metadata": {},
   "outputs": [
    {
     "data": {
      "text/plain": [
       "0.8824456593483686"
      ]
     },
     "execution_count": 42,
     "metadata": {},
     "output_type": "execute_result"
    }
   ],
   "source": [
    "r2score(x_test_casual[\"count\"], pred_summed)"
   ]
  },
  {
   "cell_type": "code",
   "execution_count": 78,
   "metadata": {},
   "outputs": [
    {
     "name": "stdout",
     "output_type": "stream",
     "text": [
      "<class 'pandas.core.frame.DataFrame'>\n",
      "RangeIndex: 17379 entries, 0 to 17378\n",
      "Data columns (total 17 columns):\n",
      "instant       17379 non-null int64\n",
      "dteday        17379 non-null datetime64[ns]\n",
      "season        17379 non-null int64\n",
      "yr            17379 non-null int64\n",
      "mnth          17379 non-null int64\n",
      "hr            17379 non-null int64\n",
      "holiday       17379 non-null int64\n",
      "weekday       17379 non-null int64\n",
      "workingday    17379 non-null int64\n",
      "weathersit    17379 non-null int64\n",
      "temp          17379 non-null float64\n",
      "atemp         17379 non-null float64\n",
      "hum           17379 non-null float64\n",
      "windspeed     17379 non-null float64\n",
      "casual        17379 non-null int64\n",
      "registered    17379 non-null int64\n",
      "cnt           17379 non-null int64\n",
      "dtypes: datetime64[ns](1), float64(4), int64(12)\n",
      "memory usage: 2.3 MB\n"
     ]
    }
   ],
   "source": [
    "hour_data.info()"
   ]
  },
  {
   "cell_type": "code",
   "execution_count": 81,
   "metadata": {},
   "outputs": [
    {
     "data": {
      "text/html": [
       "<div>\n",
       "<style scoped>\n",
       "    .dataframe tbody tr th:only-of-type {\n",
       "        vertical-align: middle;\n",
       "    }\n",
       "\n",
       "    .dataframe tbody tr th {\n",
       "        vertical-align: top;\n",
       "    }\n",
       "\n",
       "    .dataframe thead th {\n",
       "        text-align: right;\n",
       "    }\n",
       "</style>\n",
       "<table border=\"1\" class=\"dataframe\">\n",
       "  <thead>\n",
       "    <tr style=\"text-align: right;\">\n",
       "      <th></th>\n",
       "      <th>instant</th>\n",
       "      <th>dteday</th>\n",
       "      <th>season</th>\n",
       "      <th>year</th>\n",
       "      <th>month</th>\n",
       "      <th>hour</th>\n",
       "      <th>holiday</th>\n",
       "      <th>weekday</th>\n",
       "      <th>workingday</th>\n",
       "      <th>weather</th>\n",
       "      <th>temp</th>\n",
       "      <th>atemp</th>\n",
       "      <th>humidity</th>\n",
       "      <th>windspeed</th>\n",
       "      <th>casual</th>\n",
       "      <th>registered</th>\n",
       "      <th>count</th>\n",
       "    </tr>\n",
       "  </thead>\n",
       "  <tbody>\n",
       "    <tr>\n",
       "      <th>0</th>\n",
       "      <td>1</td>\n",
       "      <td>2011-01-01</td>\n",
       "      <td>1</td>\n",
       "      <td>0</td>\n",
       "      <td>1</td>\n",
       "      <td>0</td>\n",
       "      <td>0</td>\n",
       "      <td>6</td>\n",
       "      <td>0</td>\n",
       "      <td>1</td>\n",
       "      <td>0.24</td>\n",
       "      <td>0.2879</td>\n",
       "      <td>0.81</td>\n",
       "      <td>0.0</td>\n",
       "      <td>3</td>\n",
       "      <td>13</td>\n",
       "      <td>16</td>\n",
       "    </tr>\n",
       "    <tr>\n",
       "      <th>1</th>\n",
       "      <td>2</td>\n",
       "      <td>2011-01-01</td>\n",
       "      <td>1</td>\n",
       "      <td>0</td>\n",
       "      <td>1</td>\n",
       "      <td>1</td>\n",
       "      <td>0</td>\n",
       "      <td>6</td>\n",
       "      <td>0</td>\n",
       "      <td>1</td>\n",
       "      <td>0.22</td>\n",
       "      <td>0.2727</td>\n",
       "      <td>0.80</td>\n",
       "      <td>0.0</td>\n",
       "      <td>8</td>\n",
       "      <td>32</td>\n",
       "      <td>40</td>\n",
       "    </tr>\n",
       "    <tr>\n",
       "      <th>2</th>\n",
       "      <td>3</td>\n",
       "      <td>2011-01-01</td>\n",
       "      <td>1</td>\n",
       "      <td>0</td>\n",
       "      <td>1</td>\n",
       "      <td>2</td>\n",
       "      <td>0</td>\n",
       "      <td>6</td>\n",
       "      <td>0</td>\n",
       "      <td>1</td>\n",
       "      <td>0.22</td>\n",
       "      <td>0.2727</td>\n",
       "      <td>0.80</td>\n",
       "      <td>0.0</td>\n",
       "      <td>5</td>\n",
       "      <td>27</td>\n",
       "      <td>32</td>\n",
       "    </tr>\n",
       "    <tr>\n",
       "      <th>3</th>\n",
       "      <td>4</td>\n",
       "      <td>2011-01-01</td>\n",
       "      <td>1</td>\n",
       "      <td>0</td>\n",
       "      <td>1</td>\n",
       "      <td>3</td>\n",
       "      <td>0</td>\n",
       "      <td>6</td>\n",
       "      <td>0</td>\n",
       "      <td>1</td>\n",
       "      <td>0.24</td>\n",
       "      <td>0.2879</td>\n",
       "      <td>0.75</td>\n",
       "      <td>0.0</td>\n",
       "      <td>3</td>\n",
       "      <td>10</td>\n",
       "      <td>13</td>\n",
       "    </tr>\n",
       "    <tr>\n",
       "      <th>4</th>\n",
       "      <td>5</td>\n",
       "      <td>2011-01-01</td>\n",
       "      <td>1</td>\n",
       "      <td>0</td>\n",
       "      <td>1</td>\n",
       "      <td>4</td>\n",
       "      <td>0</td>\n",
       "      <td>6</td>\n",
       "      <td>0</td>\n",
       "      <td>1</td>\n",
       "      <td>0.24</td>\n",
       "      <td>0.2879</td>\n",
       "      <td>0.75</td>\n",
       "      <td>0.0</td>\n",
       "      <td>0</td>\n",
       "      <td>1</td>\n",
       "      <td>1</td>\n",
       "    </tr>\n",
       "  </tbody>\n",
       "</table>\n",
       "</div>"
      ],
      "text/plain": [
       "   instant     dteday  season  year  month  hour  holiday  weekday  \\\n",
       "0        1 2011-01-01       1     0      1     0        0        6   \n",
       "1        2 2011-01-01       1     0      1     1        0        6   \n",
       "2        3 2011-01-01       1     0      1     2        0        6   \n",
       "3        4 2011-01-01       1     0      1     3        0        6   \n",
       "4        5 2011-01-01       1     0      1     4        0        6   \n",
       "\n",
       "   workingday  weather  temp   atemp  humidity  windspeed  casual  registered  \\\n",
       "0           0        1  0.24  0.2879      0.81        0.0       3          13   \n",
       "1           0        1  0.22  0.2727      0.80        0.0       8          32   \n",
       "2           0        1  0.22  0.2727      0.80        0.0       5          27   \n",
       "3           0        1  0.24  0.2879      0.75        0.0       3          10   \n",
       "4           0        1  0.24  0.2879      0.75        0.0       0           1   \n",
       "\n",
       "   count  \n",
       "0     16  \n",
       "1     40  \n",
       "2     32  \n",
       "3     13  \n",
       "4      1  "
      ]
     },
     "execution_count": 81,
     "metadata": {},
     "output_type": "execute_result"
    }
   ],
   "source": [
    "hour_data.head()"
   ]
  },
  {
   "cell_type": "markdown",
   "metadata": {},
   "source": [
    "We report an 88% Rsquared score for our feature engineerd ensemble model of casual and registered."
   ]
  },
  {
   "cell_type": "markdown",
   "metadata": {},
   "source": [
    "### d) Plotting results"
   ]
  },
  {
   "cell_type": "code",
   "execution_count": 131,
   "metadata": {},
   "outputs": [
    {
     "data": {
      "image/png": "[encoded data removed]",
      "text/plain": [
       "<Figure size 1440x720 with 1 Axes>"
      ]
     },
     "metadata": {
      "needs_background": "light"
     },
     "output_type": "display_data"
    }
   ],
   "source": [
    "y_test_prep = pd.concat([y_test_count,pd.DataFrame(pd.DatetimeIndex(first_hour_data['dteday']).strftime('%Y-%m-%d'))],\n",
    "                         axis=1,\n",
    "                         sort=False, \n",
    "                         ignore_index=False)\n",
    "\n",
    "y_test_prep = y_test_prep.dropna()\n",
    "y_test_prep = y_test_prep.set_index(0)\n",
    "y_pred_prep = pd.DataFrame(pred_summed)\n",
    "y_total_prep = pd.concat([y_test_prep.reset_index(drop=False), y_pred_prep.reset_index(drop=True)], axis=1)\n",
    "y_total_prep.columns = ['Date', 'Actual Total Bikes', 'Predicted Total Bikes']\n",
    "y_total_prep = y_total_prep.set_index('Date')\n",
    "        \n",
    "plt.figure(figsize=(20,10))\n",
    "g = sns.lineplot(data=y_total_prep, ci=None, lw=1, dashes=False)\n",
    "g.set_xticks(['2012-10-01', '2012-11-01', '2012-12-01', '2012-12-31'])\n",
    "g.legend(loc='upper right', ncol=1)\n",
    "plt.tight_layout()"
   ]
  },
  {
   "cell_type": "markdown",
   "metadata": {},
   "source": [
    "## II) Splitting by workdays and predicting 4 times"
   ]
  },
  {
   "cell_type": "markdown",
   "metadata": {},
   "source": [
    "As an additional splitting we want to investigate the increase of our score when bikes our rented in the weekend or during the week. Therefore, we performed an additional split, keeping the weekends and workdays for casual and registered demand seperated in four datasets. In the end they will all four be ensembled and the score will be derived."
   ]
  },
  {
   "cell_type": "markdown",
   "metadata": {},
   "source": [
    "Splitting"
   ]
  },
  {
   "cell_type": "code",
   "execution_count": 43,
   "metadata": {},
   "outputs": [],
   "source": [
    "workdays = hour_data_FE_hot_encoded[hour_data_FE_hot_encoded.workingday_1 == 1]\n",
    "weekends = hour_data_FE_hot_encoded[hour_data_FE_hot_encoded.workingday_1 == 0]"
   ]
  },
  {
   "cell_type": "markdown",
   "metadata": {},
   "source": [
    "### a) Modeling for Registered Workdays"
   ]
  },
  {
   "cell_type": "code",
   "execution_count": 44,
   "metadata": {},
   "outputs": [],
   "source": [
    "x_train_reg_wd, x_test_reg_wd, y_train_reg_wd, y_test_reg_wd = split_data(workdays, \"registered\")"
   ]
  },
  {
   "cell_type": "code",
   "execution_count": 45,
   "metadata": {},
   "outputs": [
    {
     "name": "stdout",
     "output_type": "stream",
     "text": [
      "Linear Regression\n",
      "Mean squared error (MSE): 5.62\n",
      "Variance score (R2): 0.87\n",
      "----------------------------\n",
      "\n",
      "Ridge\n",
      "Mean squared error (MSE): 5.63\n",
      "Variance score (R2): 0.87\n",
      "----------------------------\n",
      "\n",
      "Huber Regressors\n",
      "Mean squared error (MSE): 18.63\n",
      "Variance score (R2): 0.56\n",
      "----------------------------\n",
      "\n",
      "Descicion Tree Regressor\n",
      "Mean squared error (MSE): 6.85\n",
      "Variance score (R2): 0.84\n",
      "----------------------------\n",
      "\n",
      "Extra Trees Regressor\n",
      "Mean squared error (MSE): 5.22\n",
      "Variance score (R2): 0.88\n",
      "----------------------------\n",
      "\n",
      "Gradient Boosting Regressor\n",
      "Mean squared error (MSE): 6.50\n",
      "Variance score (R2): 0.85\n",
      "----------------------------\n",
      "\n",
      "Random Forest Regressor\n",
      "Mean squared error (MSE): 5.21\n",
      "Variance score (R2): 0.88\n",
      "----------------------------\n",
      "\n",
      "BaggingRegressor\n",
      "Mean squared error (MSE): 5.54\n",
      "Variance score (R2): 0.87\n",
      "----------------------------\n",
      "\n"
     ]
    }
   ],
   "source": [
    "train_reg_wd_dropped_target = x_train_reg_wd.drop([\"casual\", \"count\"], axis = 1)\n",
    "test_reg_wd_dropped_target = x_test_reg_wd.drop([\"casual\", \"count\"], axis = 1)\n",
    "\n",
    "## scoring Registered Workdays\n",
    "for model in models:\n",
    "    score_one_model(train_reg_wd_dropped_target, test_reg_wd_dropped_target, y_train_reg_wd, y_test_reg_wd, model)"
   ]
  },
  {
   "cell_type": "markdown",
   "metadata": {},
   "source": [
    "Extra Trees Regressor gives us the best score with 0.88 / 0.89\n",
    "\n",
    "_(Note for Report all scores increased after splitting by workday)_"
   ]
  },
  {
   "cell_type": "code",
   "execution_count": 68,
   "metadata": {
    "scrolled": true
   },
   "outputs": [
    {
     "name": "stdout",
     "output_type": "stream",
     "text": [
      "Extra Trees Regressor\n",
      "Mean squared error (MSE): 4.87\n",
      "Variance score (R2): 0.89\n",
      "----------------------------\n",
      "\n"
     ]
    }
   ],
   "source": [
    "reg_wd_pred = score_one_model(train_reg_wd_dropped_target, test_reg_wd_dropped_target, y_train_reg_wd, y_test_reg_wd,\n",
    "                  models[4]) ## 4 is the index of Extra Trees Regressor in models array"
   ]
  },
  {
   "cell_type": "markdown",
   "metadata": {},
   "source": [
    "### b) Modeling for Registered Weekends"
   ]
  },
  {
   "cell_type": "code",
   "execution_count": 47,
   "metadata": {},
   "outputs": [],
   "source": [
    "x_train_reg_we, x_test_reg_we, y_train_reg_we, y_test_reg_we = split_data(weekends, \"registered\")"
   ]
  },
  {
   "cell_type": "code",
   "execution_count": 48,
   "metadata": {},
   "outputs": [
    {
     "name": "stdout",
     "output_type": "stream",
     "text": [
      "Linear Regression\n",
      "Mean squared error (MSE): 5.69\n",
      "Variance score (R2): 0.80\n",
      "----------------------------\n",
      "\n",
      "Ridge\n",
      "Mean squared error (MSE): 5.71\n",
      "Variance score (R2): 0.80\n",
      "----------------------------\n",
      "\n",
      "Huber Regressors\n",
      "Mean squared error (MSE): 10.45\n",
      "Variance score (R2): 0.63\n",
      "----------------------------\n",
      "\n",
      "Descicion Tree Regressor\n",
      "Mean squared error (MSE): 12.72\n",
      "Variance score (R2): 0.55\n",
      "----------------------------\n",
      "\n",
      "Extra Trees Regressor\n",
      "Mean squared error (MSE): 5.83\n",
      "Variance score (R2): 0.79\n",
      "----------------------------\n",
      "\n",
      "Gradient Boosting Regressor\n",
      "Mean squared error (MSE): 8.30\n",
      "Variance score (R2): 0.71\n",
      "----------------------------\n",
      "\n",
      "Random Forest Regressor\n",
      "Mean squared error (MSE): 8.54\n",
      "Variance score (R2): 0.70\n",
      "----------------------------\n",
      "\n",
      "BaggingRegressor\n",
      "Mean squared error (MSE): 7.82\n",
      "Variance score (R2): 0.72\n",
      "----------------------------\n",
      "\n"
     ]
    }
   ],
   "source": [
    "train_reg_we_dropped_target = x_train_reg_we.drop([\"casual\", \"count\"], axis = 1)\n",
    "test_reg_we_dropped_target = x_test_reg_we.drop([\"casual\", \"count\"], axis = 1)\n",
    "\n",
    "\n",
    "## scoring Registered Workdays\n",
    "for model in models:\n",
    "    score_one_model(train_reg_we_dropped_target, test_reg_we_dropped_target, y_train_reg_we, y_test_reg_we, model)"
   ]
  },
  {
   "cell_type": "markdown",
   "metadata": {},
   "source": [
    "Linear Regression is the best score with 0.80"
   ]
  },
  {
   "cell_type": "code",
   "execution_count": 49,
   "metadata": {
    "scrolled": true
   },
   "outputs": [
    {
     "name": "stdout",
     "output_type": "stream",
     "text": [
      "Linear Regression\n",
      "Mean squared error (MSE): 5.69\n",
      "Variance score (R2): 0.80\n",
      "----------------------------\n",
      "\n"
     ]
    }
   ],
   "source": [
    "reg_we_pred = score_one_model(train_reg_we_dropped_target, test_reg_we_dropped_target, y_train_reg_we, y_test_reg_we,\n",
    "                  models[0])"
   ]
  },
  {
   "cell_type": "markdown",
   "metadata": {},
   "source": [
    "### c) Modeling for Casual Workdays"
   ]
  },
  {
   "cell_type": "code",
   "execution_count": 50,
   "metadata": {},
   "outputs": [],
   "source": [
    "x_train_casual_wd, x_test_casual_wd, y_train_casual_wd, y_test_casual_wd = split_data(workdays, \"casual\")"
   ]
  },
  {
   "cell_type": "code",
   "execution_count": 51,
   "metadata": {},
   "outputs": [
    {
     "name": "stdout",
     "output_type": "stream",
     "text": [
      "Linear Regression\n",
      "Mean squared error (MSE): 0.66\n",
      "Variance score (R2): 0.81\n",
      "----------------------------\n",
      "\n",
      "Ridge\n",
      "Mean squared error (MSE): 0.66\n",
      "Variance score (R2): 0.81\n",
      "----------------------------\n",
      "\n",
      "Huber Regressors\n",
      "Mean squared error (MSE): 1.30\n",
      "Variance score (R2): 0.62\n",
      "----------------------------\n",
      "\n",
      "Descicion Tree Regressor\n",
      "Mean squared error (MSE): 1.30\n",
      "Variance score (R2): 0.62\n",
      "----------------------------\n",
      "\n",
      "Extra Trees Regressor\n",
      "Mean squared error (MSE): 1.91\n",
      "Variance score (R2): 0.45\n",
      "----------------------------\n",
      "\n",
      "Gradient Boosting Regressor\n",
      "Mean squared error (MSE): 0.93\n",
      "Variance score (R2): 0.73\n",
      "----------------------------\n",
      "\n",
      "Random Forest Regressor\n",
      "Mean squared error (MSE): 1.01\n",
      "Variance score (R2): 0.71\n",
      "----------------------------\n",
      "\n",
      "BaggingRegressor\n",
      "Mean squared error (MSE): 0.94\n",
      "Variance score (R2): 0.73\n",
      "----------------------------\n",
      "\n"
     ]
    }
   ],
   "source": [
    "train_cas_wd_dropped_target = x_train_casual_wd.drop([\"registered\", \"count\"], axis = 1)\n",
    "test_cas_wd_dropped_target = x_test_casual_wd.drop([\"registered\", \"count\"], axis = 1)\n",
    "\n",
    "\n",
    "## scoring Registered Workdays\n",
    "for model in models:\n",
    "    score_one_model(train_cas_wd_dropped_target, test_cas_wd_dropped_target, y_train_casual_wd, y_test_casual_wd, model)"
   ]
  },
  {
   "cell_type": "markdown",
   "metadata": {},
   "source": [
    "Linear Regression is the best score with 0.81"
   ]
  },
  {
   "cell_type": "code",
   "execution_count": 52,
   "metadata": {
    "scrolled": true
   },
   "outputs": [
    {
     "name": "stdout",
     "output_type": "stream",
     "text": [
      "Linear Regression\n",
      "Mean squared error (MSE): 0.66\n",
      "Variance score (R2): 0.81\n",
      "----------------------------\n",
      "\n"
     ]
    }
   ],
   "source": [
    "casual_wd_pred = score_one_model(train_cas_wd_dropped_target, test_cas_wd_dropped_target, y_train_casual_wd, y_test_casual_wd,\n",
    "                  models[0])"
   ]
  },
  {
   "cell_type": "markdown",
   "metadata": {},
   "source": [
    "### d) Modeling for Casual Weekends"
   ]
  },
  {
   "cell_type": "code",
   "execution_count": 53,
   "metadata": {},
   "outputs": [],
   "source": [
    "x_train_casual_we, x_test_casual_we, y_train_casual_we, y_test_casual_we = split_data(weekends, \"casual\")"
   ]
  },
  {
   "cell_type": "code",
   "execution_count": 54,
   "metadata": {},
   "outputs": [
    {
     "name": "stdout",
     "output_type": "stream",
     "text": [
      "Linear Regression\n",
      "Mean squared error (MSE): 0.68\n",
      "Variance score (R2): 0.86\n",
      "----------------------------\n",
      "\n",
      "Ridge\n",
      "Mean squared error (MSE): 0.68\n",
      "Variance score (R2): 0.86\n",
      "----------------------------\n",
      "\n",
      "Huber Regressors\n",
      "Mean squared error (MSE): 1.71\n",
      "Variance score (R2): 0.65\n",
      "----------------------------\n",
      "\n",
      "Descicion Tree Regressor\n",
      "Mean squared error (MSE): 2.24\n",
      "Variance score (R2): 0.54\n",
      "----------------------------\n",
      "\n",
      "Extra Trees Regressor\n",
      "Mean squared error (MSE): 0.91\n",
      "Variance score (R2): 0.81\n",
      "----------------------------\n",
      "\n",
      "Gradient Boosting Regressor\n",
      "Mean squared error (MSE): 1.07\n",
      "Variance score (R2): 0.78\n",
      "----------------------------\n",
      "\n",
      "Random Forest Regressor\n",
      "Mean squared error (MSE): 1.18\n",
      "Variance score (R2): 0.76\n",
      "----------------------------\n",
      "\n",
      "BaggingRegressor\n",
      "Mean squared error (MSE): 1.09\n",
      "Variance score (R2): 0.77\n",
      "----------------------------\n",
      "\n"
     ]
    }
   ],
   "source": [
    "train_cas_we_dropped_target = x_train_casual_we.drop([\"registered\", \"count\"], axis = 1)\n",
    "test_cas_we_dropped_target = x_test_casual_we.drop([\"registered\", \"count\"], axis = 1)\n",
    "\n",
    "\n",
    "## scoring Registered Workdays\n",
    "for model in models:\n",
    "    score_one_model(train_cas_we_dropped_target, test_cas_we_dropped_target, y_train_casual_we, y_test_casual_we, model)"
   ]
  },
  {
   "cell_type": "markdown",
   "metadata": {},
   "source": [
    "Linear Regression is the best score with 0.86"
   ]
  },
  {
   "cell_type": "code",
   "execution_count": 55,
   "metadata": {
    "scrolled": false
   },
   "outputs": [
    {
     "name": "stdout",
     "output_type": "stream",
     "text": [
      "Linear Regression\n",
      "Mean squared error (MSE): 0.68\n",
      "Variance score (R2): 0.86\n",
      "----------------------------\n",
      "\n"
     ]
    }
   ],
   "source": [
    "casual_we_pred = score_one_model(train_cas_we_dropped_target, test_cas_we_dropped_target, y_train_casual_we, y_test_casual_we,\n",
    "                  models[0])"
   ]
  },
  {
   "cell_type": "markdown",
   "metadata": {},
   "source": [
    "### e) Final summed score after splitting by Workdays/Weekends"
   ]
  },
  {
   "cell_type": "code",
   "execution_count": 56,
   "metadata": {},
   "outputs": [],
   "source": [
    "we_pred_summed = reg_we_pred + casual_we_pred\n",
    "wd_pred_summed = reg_wd_pred + casual_wd_pred"
   ]
  },
  {
   "cell_type": "code",
   "execution_count": 57,
   "metadata": {},
   "outputs": [],
   "source": [
    "predictions = np.concatenate([we_pred_summed, wd_pred_summed])"
   ]
  },
  {
   "cell_type": "code",
   "execution_count": 58,
   "metadata": {},
   "outputs": [],
   "source": [
    "target = pd.concat([x_test_casual_we[\"count\"], x_test_casual_wd[\"count\"]])"
   ]
  },
  {
   "cell_type": "code",
   "execution_count": 59,
   "metadata": {},
   "outputs": [
    {
     "name": "stdout",
     "output_type": "stream",
     "text": [
      "Mean squared error (MSE): 8.357831884461495\n",
      "Variance score (R2): 0.8353526395286948\n"
     ]
    }
   ],
   "source": [
    "print(\n",
    "    \"Mean squared error (MSE): {}\".format(mean_squared_error(target, predictions))\n",
    ")\n",
    "print(\"Variance score (R2): {}\".format(r2_score(predictions, target)))"
   ]
  },
  {
   "cell_type": "markdown",
   "metadata": {},
   "source": [
    "### f) Plotting results"
   ]
  },
  {
   "cell_type": "code",
   "execution_count": 130,
   "metadata": {},
   "outputs": [
    {
     "data": {
      "image/png": "[encoded data removed]",
      "text/plain": [
       "<Figure size 1440x720 with 1 Axes>"
      ]
     },
     "metadata": {
      "needs_background": "light"
     },
     "output_type": "display_data"
    }
   ],
   "source": [
    "y_test_prep = pd.concat([y_test_count,pd.DataFrame(pd.DatetimeIndex(first_hour_data['dteday']).strftime('%Y-%m-%d'))],\n",
    "                         axis=1,\n",
    "                         sort=False, \n",
    "                         ignore_index=False)\n",
    "\n",
    "y_test_prep = y_test_prep.dropna()\n",
    "y_test_prep = y_test_prep.set_index(0)\n",
    "y_pred_prep = pd.DataFrame(target)\n",
    "y_total_prep = pd.concat([y_test_prep.reset_index(drop=False), y_pred_prep.reset_index(drop=True)], axis=1)\n",
    "y_total_prep.columns = ['Date', 'Actual Total Bikes', 'Predicted Total Bikes']\n",
    "y_total_prep = y_total_prep.set_index('Date')\n",
    "        \n",
    "plt.figure(figsize=(20, 10))\n",
    "g = sns.lineplot(data=y_total_prep, ci=None, lw=1, dashes=False)\n",
    "g.set_xticks(['2012-10-01', '2012-11-01', '2012-12-01', '2012-12-31'])\n",
    "g.legend(loc='upper right', ncol=1)\n",
    "plt.tight_layout()"
   ]
  },
  {
   "cell_type": "markdown",
   "metadata": {},
   "source": [
    "Unfortunately this second approach of splitting and binning does not improve our final score. Although the scores for splits with weekend days both improved for casual and registered, the ones for weekdays decreased. This is probably due to the pattern during the weekdays that occur more in hours instead of in days."
   ]
  },
  {
   "cell_type": "markdown",
   "metadata": {},
   "source": [
    "# 8. Conclusions"
   ]
  },
  {
   "cell_type": "markdown",
   "metadata": {},
   "source": [
    "We choose to go with the ensemble model we created in I.c, giving us a score of an ensemble of a Linear Model and untuned Extra Trees Regressor of 88%. Opportunities to improve the higher score we aimed to get in II.e, we could get by tuning the parameters of our best performing model. Also binning the hours in the weekdays as an additional feature could improve the score of this split and thus result in a higher accuracy score."
   ]
  }
 ],
 "metadata": {
  "kernelspec": {
   "display_name": "Python 3",
   "language": "python",
   "name": "python3"
  },
  "language_info": {
   "codemirror_mode": {
    "name": "ipython",
    "version": 3
   },
   "file_extension": ".py",
   "mimetype": "text/x-python",
   "name": "python",
   "nbconvert_exporter": "python",
   "pygments_lexer": "ipython3",
   "version": "3.7.1"
  }
 },
 "nbformat": 4,
 "nbformat_minor": 2
}
