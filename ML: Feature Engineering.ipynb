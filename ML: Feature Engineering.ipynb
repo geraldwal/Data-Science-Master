{
 "cells": [
  {
   "cell_type": "markdown",
   "metadata": {
    "slideshow": {
     "slide_type": "slide"
    }
   },
   "source": [
    "# Accuracy optimization for HR Analytics dataset "
   ]
  },
  {
   "cell_type": "markdown",
   "metadata": {},
   "source": [
    "In this document we will be analyzing the HR Analytics dataset from Kaggle"
   ]
  },
  {
   "cell_type": "markdown",
   "metadata": {},
   "source": [
    "# 0. Set-up"
   ]
  },
  {
   "cell_type": "markdown",
   "metadata": {},
   "source": [
    "Librabry imports"
   ]
  },
  {
   "cell_type": "code",
   "execution_count": 1,
   "metadata": {},
   "outputs": [],
   "source": [
    "# Imports\n",
    "import numpy as np\n",
    "import pandas as pd\n",
    "import statsmodels.api as sm\n",
    "import warnings\n",
    "import numpy as np\n",
    "import pandas as pd\n",
    "import matplotlib.pyplot as plt\n",
    "import scipy.stats as ss\n",
    "import seaborn as sns\n",
    "import urllib\n",
    "import warnings\n",
    "\n",
    "from copy import copy\n",
    "\n",
    "from scipy.stats import skew, boxcox_normmax\n",
    "from scipy.special import boxcox1p\n",
    "\n",
    "from collections import defaultdict\n",
    "\n",
    "from sklearn import preprocessing\n",
    "from sklearn import datasets, linear_model\n",
    "from sklearn.linear_model import LogisticRegression\n",
    "from sklearn.metrics import mean_squared_error, r2_score\n",
    "from sklearn.model_selection import cross_val_score, \\\n",
    "        validation_curve, cross_validate, cross_val_predict\n",
    "from sklearn.model_selection import train_test_split, KFold\n",
    "from sklearn.pipeline import Pipeline, make_pipeline\n",
    "from sklearn.preprocessing import LabelBinarizer, RobustScaler, PolynomialFeatures\n",
    "from sklearn.linear_model import LinearRegression\n",
    "\n",
    "warnings.simplefilter(action='ignore')"
   ]
  },
  {
   "cell_type": "markdown",
   "metadata": {},
   "source": [
    "Pipeline creation"
   ]
  },
  {
   "cell_type": "code",
   "execution_count": 2,
   "metadata": {},
   "outputs": [],
   "source": [
    "def feature_engineering_pipeline(raw_data, fe_functions):\n",
    "    selected_functions = []\n",
    "    base_score = score_model(raw_data)\n",
    "    print('Base Score: {:.4f}'.format(base_score))\n",
    "    engineered_data = raw_data.copy()\n",
    "    for fe_function in fe_functions:\n",
    "        processed_data = globals()[fe_function](engineered_data)\n",
    "        new_score = score_model(processed_data)\n",
    "        print('- New Score ({}): {:.4f} '.format(fe_function, new_score), \n",
    "              end='')\n",
    "        difference = (new_score-base_score)\n",
    "        print('[diff: {:.4f}] '.format(difference), end='')\n",
    "        if difference > -0.01:\n",
    "            selected_functions.append(fe_function)\n",
    "            engineered_data = processed_data.copy()\n",
    "            base_score = new_score\n",
    "            print('[Accepted]')\n",
    "        else:\n",
    "            print('[Rejected]')\n",
    "    return selected_functions, engineered_data"
   ]
  },
  {
   "cell_type": "markdown",
   "metadata": {},
   "source": [
    "# 1. Data loading"
   ]
  },
  {
   "cell_type": "code",
   "execution_count": 3,
   "metadata": {},
   "outputs": [
    {
     "data": {
      "text/html": [
       "<div>\n",
       "<style scoped>\n",
       "    .dataframe tbody tr th:only-of-type {\n",
       "        vertical-align: middle;\n",
       "    }\n",
       "\n",
       "    .dataframe tbody tr th {\n",
       "        vertical-align: top;\n",
       "    }\n",
       "\n",
       "    .dataframe thead th {\n",
       "        text-align: right;\n",
       "    }\n",
       "</style>\n",
       "<table border=\"1\" class=\"dataframe\">\n",
       "  <thead>\n",
       "    <tr style=\"text-align: right;\">\n",
       "      <th></th>\n",
       "      <th>satisfaction_level</th>\n",
       "      <th>last_evaluation</th>\n",
       "      <th>number_project</th>\n",
       "      <th>average_montly_hours</th>\n",
       "      <th>time_spend_company</th>\n",
       "      <th>Work_accident</th>\n",
       "      <th>left</th>\n",
       "      <th>promotion_last_5years</th>\n",
       "      <th>sales</th>\n",
       "      <th>salary</th>\n",
       "    </tr>\n",
       "  </thead>\n",
       "  <tbody>\n",
       "    <tr>\n",
       "      <th>0</th>\n",
       "      <td>0.38</td>\n",
       "      <td>0.53</td>\n",
       "      <td>2</td>\n",
       "      <td>157</td>\n",
       "      <td>3</td>\n",
       "      <td>0</td>\n",
       "      <td>1</td>\n",
       "      <td>0</td>\n",
       "      <td>sales</td>\n",
       "      <td>low</td>\n",
       "    </tr>\n",
       "    <tr>\n",
       "      <th>1</th>\n",
       "      <td>0.80</td>\n",
       "      <td>0.86</td>\n",
       "      <td>5</td>\n",
       "      <td>262</td>\n",
       "      <td>6</td>\n",
       "      <td>0</td>\n",
       "      <td>1</td>\n",
       "      <td>0</td>\n",
       "      <td>sales</td>\n",
       "      <td>medium</td>\n",
       "    </tr>\n",
       "    <tr>\n",
       "      <th>2</th>\n",
       "      <td>0.11</td>\n",
       "      <td>0.88</td>\n",
       "      <td>7</td>\n",
       "      <td>272</td>\n",
       "      <td>4</td>\n",
       "      <td>0</td>\n",
       "      <td>1</td>\n",
       "      <td>0</td>\n",
       "      <td>sales</td>\n",
       "      <td>medium</td>\n",
       "    </tr>\n",
       "    <tr>\n",
       "      <th>3</th>\n",
       "      <td>0.72</td>\n",
       "      <td>0.87</td>\n",
       "      <td>5</td>\n",
       "      <td>223</td>\n",
       "      <td>5</td>\n",
       "      <td>0</td>\n",
       "      <td>1</td>\n",
       "      <td>0</td>\n",
       "      <td>sales</td>\n",
       "      <td>low</td>\n",
       "    </tr>\n",
       "    <tr>\n",
       "      <th>4</th>\n",
       "      <td>0.37</td>\n",
       "      <td>0.52</td>\n",
       "      <td>2</td>\n",
       "      <td>159</td>\n",
       "      <td>3</td>\n",
       "      <td>0</td>\n",
       "      <td>1</td>\n",
       "      <td>0</td>\n",
       "      <td>sales</td>\n",
       "      <td>low</td>\n",
       "    </tr>\n",
       "  </tbody>\n",
       "</table>\n",
       "</div>"
      ],
      "text/plain": [
       "   satisfaction_level  last_evaluation  number_project  average_montly_hours  \\\n",
       "0                0.38             0.53               2                   157   \n",
       "1                0.80             0.86               5                   262   \n",
       "2                0.11             0.88               7                   272   \n",
       "3                0.72             0.87               5                   223   \n",
       "4                0.37             0.52               2                   159   \n",
       "\n",
       "   time_spend_company  Work_accident  left  promotion_last_5years  sales  \\\n",
       "0                   3              0     1                      0  sales   \n",
       "1                   6              0     1                      0  sales   \n",
       "2                   4              0     1                      0  sales   \n",
       "3                   5              0     1                      0  sales   \n",
       "4                   3              0     1                      0  sales   \n",
       "\n",
       "   salary  \n",
       "0     low  \n",
       "1  medium  \n",
       "2  medium  \n",
       "3     low  \n",
       "4     low  "
      ]
     },
     "execution_count": 3,
     "metadata": {},
     "output_type": "execute_result"
    }
   ],
   "source": [
    "df=pd.read_csv('https://gist.githubusercontent.com/geraldwal/5bf1c1a44d0119f5b448ea8317cadd2b/raw/d999a0422f6a62b8beb36a98d6829712e53af9c1/hr_analytics_ML2', sep=',')\n",
    "df.head()"
   ]
  },
  {
   "cell_type": "markdown",
   "metadata": {},
   "source": [
    "# 2. Data preparation"
   ]
  },
  {
   "cell_type": "markdown",
   "metadata": {},
   "source": [
    "Check the types of the data. "
   ]
  },
  {
   "cell_type": "code",
   "execution_count": 4,
   "metadata": {},
   "outputs": [
    {
     "data": {
      "text/plain": [
       "satisfaction_level       float64\n",
       "last_evaluation          float64\n",
       "number_project             int64\n",
       "average_montly_hours       int64\n",
       "time_spend_company         int64\n",
       "Work_accident              int64\n",
       "left                       int64\n",
       "promotion_last_5years      int64\n",
       "sales                     object\n",
       "salary                    object\n",
       "dtype: object"
      ]
     },
     "execution_count": 4,
     "metadata": {},
     "output_type": "execute_result"
    }
   ],
   "source": [
    "df.dtypes"
   ]
  },
  {
   "cell_type": "markdown",
   "metadata": {},
   "source": [
    "Check if there are any null values in the dataset."
   ]
  },
  {
   "cell_type": "code",
   "execution_count": 5,
   "metadata": {},
   "outputs": [
    {
     "data": {
      "text/plain": [
       "False"
      ]
     },
     "execution_count": 5,
     "metadata": {},
     "output_type": "execute_result"
    }
   ],
   "source": [
    "df.isnull().values.any()"
   ]
  },
  {
   "cell_type": "markdown",
   "metadata": {},
   "source": [
    "When we inspect the distribution of the target variable [left], we see that the dataset is *unbalanced*. 76% of the employees did not leave the company."
   ]
  },
  {
   "cell_type": "code",
   "execution_count": 6,
   "metadata": {},
   "outputs": [
    {
     "data": {
      "text/plain": [
       "0    0.761917\n",
       "1    0.238083\n",
       "Name: left, dtype: float64"
      ]
     },
     "execution_count": 6,
     "metadata": {},
     "output_type": "execute_result"
    }
   ],
   "source": [
    "df.left.value_counts()/len(df.left)"
   ]
  },
  {
   "cell_type": "markdown",
   "metadata": {},
   "source": [
    "With the next functions, we dummify the salary and sales categorical variables"
   ]
  },
  {
   "cell_type": "code",
   "execution_count": 7,
   "metadata": {},
   "outputs": [
    {
     "data": {
      "text/html": [
       "<div>\n",
       "<style scoped>\n",
       "    .dataframe tbody tr th:only-of-type {\n",
       "        vertical-align: middle;\n",
       "    }\n",
       "\n",
       "    .dataframe tbody tr th {\n",
       "        vertical-align: top;\n",
       "    }\n",
       "\n",
       "    .dataframe thead th {\n",
       "        text-align: right;\n",
       "    }\n",
       "</style>\n",
       "<table border=\"1\" class=\"dataframe\">\n",
       "  <thead>\n",
       "    <tr style=\"text-align: right;\">\n",
       "      <th></th>\n",
       "      <th>satisfaction_level</th>\n",
       "      <th>last_evaluation</th>\n",
       "      <th>number_project</th>\n",
       "      <th>average_montly_hours</th>\n",
       "      <th>time_spend_company</th>\n",
       "      <th>Work_accident</th>\n",
       "      <th>left</th>\n",
       "      <th>promotion_last_5years</th>\n",
       "      <th>salary_high</th>\n",
       "      <th>salary_low</th>\n",
       "      <th>...</th>\n",
       "      <th>sales_IT</th>\n",
       "      <th>sales_RandD</th>\n",
       "      <th>sales_accounting</th>\n",
       "      <th>sales_hr</th>\n",
       "      <th>sales_management</th>\n",
       "      <th>sales_marketing</th>\n",
       "      <th>sales_product_mng</th>\n",
       "      <th>sales_sales</th>\n",
       "      <th>sales_support</th>\n",
       "      <th>sales_technical</th>\n",
       "    </tr>\n",
       "  </thead>\n",
       "  <tbody>\n",
       "    <tr>\n",
       "      <th>0</th>\n",
       "      <td>0.38</td>\n",
       "      <td>0.53</td>\n",
       "      <td>2</td>\n",
       "      <td>157</td>\n",
       "      <td>3</td>\n",
       "      <td>0</td>\n",
       "      <td>1</td>\n",
       "      <td>0</td>\n",
       "      <td>0</td>\n",
       "      <td>1</td>\n",
       "      <td>...</td>\n",
       "      <td>0</td>\n",
       "      <td>0</td>\n",
       "      <td>0</td>\n",
       "      <td>0</td>\n",
       "      <td>0</td>\n",
       "      <td>0</td>\n",
       "      <td>0</td>\n",
       "      <td>1</td>\n",
       "      <td>0</td>\n",
       "      <td>0</td>\n",
       "    </tr>\n",
       "    <tr>\n",
       "      <th>1</th>\n",
       "      <td>0.80</td>\n",
       "      <td>0.86</td>\n",
       "      <td>5</td>\n",
       "      <td>262</td>\n",
       "      <td>6</td>\n",
       "      <td>0</td>\n",
       "      <td>1</td>\n",
       "      <td>0</td>\n",
       "      <td>0</td>\n",
       "      <td>0</td>\n",
       "      <td>...</td>\n",
       "      <td>0</td>\n",
       "      <td>0</td>\n",
       "      <td>0</td>\n",
       "      <td>0</td>\n",
       "      <td>0</td>\n",
       "      <td>0</td>\n",
       "      <td>0</td>\n",
       "      <td>1</td>\n",
       "      <td>0</td>\n",
       "      <td>0</td>\n",
       "    </tr>\n",
       "    <tr>\n",
       "      <th>2</th>\n",
       "      <td>0.11</td>\n",
       "      <td>0.88</td>\n",
       "      <td>7</td>\n",
       "      <td>272</td>\n",
       "      <td>4</td>\n",
       "      <td>0</td>\n",
       "      <td>1</td>\n",
       "      <td>0</td>\n",
       "      <td>0</td>\n",
       "      <td>0</td>\n",
       "      <td>...</td>\n",
       "      <td>0</td>\n",
       "      <td>0</td>\n",
       "      <td>0</td>\n",
       "      <td>0</td>\n",
       "      <td>0</td>\n",
       "      <td>0</td>\n",
       "      <td>0</td>\n",
       "      <td>1</td>\n",
       "      <td>0</td>\n",
       "      <td>0</td>\n",
       "    </tr>\n",
       "    <tr>\n",
       "      <th>3</th>\n",
       "      <td>0.72</td>\n",
       "      <td>0.87</td>\n",
       "      <td>5</td>\n",
       "      <td>223</td>\n",
       "      <td>5</td>\n",
       "      <td>0</td>\n",
       "      <td>1</td>\n",
       "      <td>0</td>\n",
       "      <td>0</td>\n",
       "      <td>1</td>\n",
       "      <td>...</td>\n",
       "      <td>0</td>\n",
       "      <td>0</td>\n",
       "      <td>0</td>\n",
       "      <td>0</td>\n",
       "      <td>0</td>\n",
       "      <td>0</td>\n",
       "      <td>0</td>\n",
       "      <td>1</td>\n",
       "      <td>0</td>\n",
       "      <td>0</td>\n",
       "    </tr>\n",
       "    <tr>\n",
       "      <th>4</th>\n",
       "      <td>0.37</td>\n",
       "      <td>0.52</td>\n",
       "      <td>2</td>\n",
       "      <td>159</td>\n",
       "      <td>3</td>\n",
       "      <td>0</td>\n",
       "      <td>1</td>\n",
       "      <td>0</td>\n",
       "      <td>0</td>\n",
       "      <td>1</td>\n",
       "      <td>...</td>\n",
       "      <td>0</td>\n",
       "      <td>0</td>\n",
       "      <td>0</td>\n",
       "      <td>0</td>\n",
       "      <td>0</td>\n",
       "      <td>0</td>\n",
       "      <td>0</td>\n",
       "      <td>1</td>\n",
       "      <td>0</td>\n",
       "      <td>0</td>\n",
       "    </tr>\n",
       "  </tbody>\n",
       "</table>\n",
       "<p>5 rows × 21 columns</p>\n",
       "</div>"
      ],
      "text/plain": [
       "   satisfaction_level  last_evaluation  number_project  average_montly_hours  \\\n",
       "0                0.38             0.53               2                   157   \n",
       "1                0.80             0.86               5                   262   \n",
       "2                0.11             0.88               7                   272   \n",
       "3                0.72             0.87               5                   223   \n",
       "4                0.37             0.52               2                   159   \n",
       "\n",
       "   time_spend_company  Work_accident  left  promotion_last_5years  \\\n",
       "0                   3              0     1                      0   \n",
       "1                   6              0     1                      0   \n",
       "2                   4              0     1                      0   \n",
       "3                   5              0     1                      0   \n",
       "4                   3              0     1                      0   \n",
       "\n",
       "   salary_high  salary_low       ...         sales_IT  sales_RandD  \\\n",
       "0            0           1       ...                0            0   \n",
       "1            0           0       ...                0            0   \n",
       "2            0           0       ...                0            0   \n",
       "3            0           1       ...                0            0   \n",
       "4            0           1       ...                0            0   \n",
       "\n",
       "   sales_accounting  sales_hr  sales_management  sales_marketing  \\\n",
       "0                 0         0                 0                0   \n",
       "1                 0         0                 0                0   \n",
       "2                 0         0                 0                0   \n",
       "3                 0         0                 0                0   \n",
       "4                 0         0                 0                0   \n",
       "\n",
       "   sales_product_mng  sales_sales  sales_support  sales_technical  \n",
       "0                  0            1              0                0  \n",
       "1                  0            1              0                0  \n",
       "2                  0            1              0                0  \n",
       "3                  0            1              0                0  \n",
       "4                  0            1              0                0  \n",
       "\n",
       "[5 rows x 21 columns]"
      ]
     },
     "execution_count": 7,
     "metadata": {},
     "output_type": "execute_result"
    }
   ],
   "source": [
    "def numerical_features(df):\n",
    "    columns = df.columns\n",
    "    return df._get_numeric_data().columns\n",
    "\n",
    "def categorical_features(df):\n",
    "    numerical_columns = numerical_features(df)\n",
    "    return(list(set(df.columns) - set(numerical_columns)))\n",
    "\n",
    "def onehot_encode(df):\n",
    "    numericals = df.get(numerical_features(df))\n",
    "    new_df = numericals.copy()\n",
    "    for categorical_column in categorical_features(df):\n",
    "        new_df = pd.concat([new_df, \n",
    "                            pd.get_dummies(df[categorical_column], \n",
    "                                           prefix=categorical_column)], \n",
    "                           axis=1)\n",
    "    return new_df\n",
    "df1 = onehot_encode(df)\n",
    "df1.head()"
   ]
  },
  {
   "cell_type": "code",
   "execution_count": 8,
   "metadata": {},
   "outputs": [
    {
     "name": "stdout",
     "output_type": "stream",
     "text": [
      "Original shape of the dataset, before the onehot encoding: (14999, 10)\n",
      "Dataset shape after the onehot encoding: (14999, 21)\n"
     ]
    }
   ],
   "source": [
    "print('Original shape of the dataset, before the onehot encoding: {}'.format(df.shape))\n",
    "dataset = pd.get_dummies(df1)\n",
    "print('Dataset shape after the onehot encoding: {}'.format(df1.shape))"
   ]
  },
  {
   "cell_type": "markdown",
   "metadata": {},
   "source": [
    "We fix the variable types."
   ]
  },
  {
   "cell_type": "code",
   "execution_count": 9,
   "metadata": {},
   "outputs": [
    {
     "data": {
      "text/plain": [
       "satisfaction_level        float64\n",
       "last_evaluation           float64\n",
       "number_project           category\n",
       "average_montly_hours        int64\n",
       "time_spend_company       category\n",
       "Work_accident                bool\n",
       "left                         bool\n",
       "promotion_last_5years        bool\n",
       "salary_high                 uint8\n",
       "salary_low                  uint8\n",
       "salary_medium               uint8\n",
       "sales_IT                    uint8\n",
       "sales_RandD                 uint8\n",
       "sales_accounting            uint8\n",
       "sales_hr                    uint8\n",
       "sales_management            uint8\n",
       "sales_marketing             uint8\n",
       "sales_product_mng           uint8\n",
       "sales_sales                 uint8\n",
       "sales_support               uint8\n",
       "sales_technical             uint8\n",
       "dtype: object"
      ]
     },
     "execution_count": 9,
     "metadata": {},
     "output_type": "execute_result"
    }
   ],
   "source": [
    "df1[\"Work_accident\"] = df[\"Work_accident\"].astype('bool')\n",
    "df1[\"left\"] = df[\"left\"].astype('bool')\n",
    "df1[\"promotion_last_5years\"] = df[\"promotion_last_5years\"].astype('bool')\n",
    "df1[\"number_project\"] = df[\"number_project\"].astype('category')\n",
    "df1[\"time_spend_company\"] = df[\"time_spend_company\"].astype('category')\n",
    "df1.dtypes"
   ]
  },
  {
   "cell_type": "markdown",
   "metadata": {},
   "source": [
    "We fix the skewness."
   ]
  },
  {
   "cell_type": "code",
   "execution_count": 10,
   "metadata": {},
   "outputs": [],
   "source": [
    "def feature_skewness(df):\n",
    "    numeric_dtypes = ['int64', \n",
    "                      'float64']\n",
    "    numeric_features = []\n",
    "    for i in df.columns:\n",
    "        if df[i].dtype in numeric_dtypes: \n",
    "            numeric_features.append(i)\n",
    "\n",
    "    feature_skew = df[numeric_features].apply(\n",
    "        lambda x: skew(x)).sort_values(ascending=False)\n",
    "    skews = pd.DataFrame({'skew':feature_skew})\n",
    "    return feature_skew, numeric_features"
   ]
  },
  {
   "cell_type": "code",
   "execution_count": 11,
   "metadata": {},
   "outputs": [
    {
     "data": {
      "text/html": [
       "<div>\n",
       "<style scoped>\n",
       "    .dataframe tbody tr th:only-of-type {\n",
       "        vertical-align: middle;\n",
       "    }\n",
       "\n",
       "    .dataframe tbody tr th {\n",
       "        vertical-align: top;\n",
       "    }\n",
       "\n",
       "    .dataframe thead th {\n",
       "        text-align: right;\n",
       "    }\n",
       "</style>\n",
       "<table border=\"1\" class=\"dataframe\">\n",
       "  <thead>\n",
       "    <tr style=\"text-align: right;\">\n",
       "      <th></th>\n",
       "      <th>satisfaction_level</th>\n",
       "      <th>last_evaluation</th>\n",
       "      <th>number_project</th>\n",
       "      <th>average_montly_hours</th>\n",
       "      <th>time_spend_company</th>\n",
       "      <th>Work_accident</th>\n",
       "      <th>left</th>\n",
       "      <th>promotion_last_5years</th>\n",
       "      <th>salary_high</th>\n",
       "      <th>salary_low</th>\n",
       "      <th>...</th>\n",
       "      <th>sales_IT</th>\n",
       "      <th>sales_RandD</th>\n",
       "      <th>sales_accounting</th>\n",
       "      <th>sales_hr</th>\n",
       "      <th>sales_management</th>\n",
       "      <th>sales_marketing</th>\n",
       "      <th>sales_product_mng</th>\n",
       "      <th>sales_sales</th>\n",
       "      <th>sales_support</th>\n",
       "      <th>sales_technical</th>\n",
       "    </tr>\n",
       "  </thead>\n",
       "  <tbody>\n",
       "    <tr>\n",
       "      <th>0</th>\n",
       "      <td>0.38</td>\n",
       "      <td>0.53</td>\n",
       "      <td>2</td>\n",
       "      <td>157</td>\n",
       "      <td>3</td>\n",
       "      <td>False</td>\n",
       "      <td>True</td>\n",
       "      <td>False</td>\n",
       "      <td>0</td>\n",
       "      <td>1</td>\n",
       "      <td>...</td>\n",
       "      <td>0</td>\n",
       "      <td>0</td>\n",
       "      <td>0</td>\n",
       "      <td>0</td>\n",
       "      <td>0</td>\n",
       "      <td>0</td>\n",
       "      <td>0</td>\n",
       "      <td>1</td>\n",
       "      <td>0</td>\n",
       "      <td>0</td>\n",
       "    </tr>\n",
       "    <tr>\n",
       "      <th>1</th>\n",
       "      <td>0.80</td>\n",
       "      <td>0.86</td>\n",
       "      <td>5</td>\n",
       "      <td>262</td>\n",
       "      <td>6</td>\n",
       "      <td>False</td>\n",
       "      <td>True</td>\n",
       "      <td>False</td>\n",
       "      <td>0</td>\n",
       "      <td>0</td>\n",
       "      <td>...</td>\n",
       "      <td>0</td>\n",
       "      <td>0</td>\n",
       "      <td>0</td>\n",
       "      <td>0</td>\n",
       "      <td>0</td>\n",
       "      <td>0</td>\n",
       "      <td>0</td>\n",
       "      <td>1</td>\n",
       "      <td>0</td>\n",
       "      <td>0</td>\n",
       "    </tr>\n",
       "    <tr>\n",
       "      <th>2</th>\n",
       "      <td>0.11</td>\n",
       "      <td>0.88</td>\n",
       "      <td>7</td>\n",
       "      <td>272</td>\n",
       "      <td>4</td>\n",
       "      <td>False</td>\n",
       "      <td>True</td>\n",
       "      <td>False</td>\n",
       "      <td>0</td>\n",
       "      <td>0</td>\n",
       "      <td>...</td>\n",
       "      <td>0</td>\n",
       "      <td>0</td>\n",
       "      <td>0</td>\n",
       "      <td>0</td>\n",
       "      <td>0</td>\n",
       "      <td>0</td>\n",
       "      <td>0</td>\n",
       "      <td>1</td>\n",
       "      <td>0</td>\n",
       "      <td>0</td>\n",
       "    </tr>\n",
       "    <tr>\n",
       "      <th>3</th>\n",
       "      <td>0.72</td>\n",
       "      <td>0.87</td>\n",
       "      <td>5</td>\n",
       "      <td>223</td>\n",
       "      <td>5</td>\n",
       "      <td>False</td>\n",
       "      <td>True</td>\n",
       "      <td>False</td>\n",
       "      <td>0</td>\n",
       "      <td>1</td>\n",
       "      <td>...</td>\n",
       "      <td>0</td>\n",
       "      <td>0</td>\n",
       "      <td>0</td>\n",
       "      <td>0</td>\n",
       "      <td>0</td>\n",
       "      <td>0</td>\n",
       "      <td>0</td>\n",
       "      <td>1</td>\n",
       "      <td>0</td>\n",
       "      <td>0</td>\n",
       "    </tr>\n",
       "    <tr>\n",
       "      <th>4</th>\n",
       "      <td>0.37</td>\n",
       "      <td>0.52</td>\n",
       "      <td>2</td>\n",
       "      <td>159</td>\n",
       "      <td>3</td>\n",
       "      <td>False</td>\n",
       "      <td>True</td>\n",
       "      <td>False</td>\n",
       "      <td>0</td>\n",
       "      <td>1</td>\n",
       "      <td>...</td>\n",
       "      <td>0</td>\n",
       "      <td>0</td>\n",
       "      <td>0</td>\n",
       "      <td>0</td>\n",
       "      <td>0</td>\n",
       "      <td>0</td>\n",
       "      <td>0</td>\n",
       "      <td>1</td>\n",
       "      <td>0</td>\n",
       "      <td>0</td>\n",
       "    </tr>\n",
       "  </tbody>\n",
       "</table>\n",
       "<p>5 rows × 21 columns</p>\n",
       "</div>"
      ],
      "text/plain": [
       "   satisfaction_level  last_evaluation number_project  average_montly_hours  \\\n",
       "0                0.38             0.53              2                   157   \n",
       "1                0.80             0.86              5                   262   \n",
       "2                0.11             0.88              7                   272   \n",
       "3                0.72             0.87              5                   223   \n",
       "4                0.37             0.52              2                   159   \n",
       "\n",
       "  time_spend_company  Work_accident  left  promotion_last_5years  salary_high  \\\n",
       "0                  3          False  True                  False            0   \n",
       "1                  6          False  True                  False            0   \n",
       "2                  4          False  True                  False            0   \n",
       "3                  5          False  True                  False            0   \n",
       "4                  3          False  True                  False            0   \n",
       "\n",
       "   salary_low       ...         sales_IT  sales_RandD  sales_accounting  \\\n",
       "0           1       ...                0            0                 0   \n",
       "1           0       ...                0            0                 0   \n",
       "2           0       ...                0            0                 0   \n",
       "3           1       ...                0            0                 0   \n",
       "4           1       ...                0            0                 0   \n",
       "\n",
       "   sales_hr  sales_management  sales_marketing  sales_product_mng  \\\n",
       "0         0                 0                0                  0   \n",
       "1         0                 0                0                  0   \n",
       "2         0                 0                0                  0   \n",
       "3         0                 0                0                  0   \n",
       "4         0                 0                0                  0   \n",
       "\n",
       "   sales_sales  sales_support  sales_technical  \n",
       "0            1              0                0  \n",
       "1            1              0                0  \n",
       "2            1              0                0  \n",
       "3            1              0                0  \n",
       "4            1              0                0  \n",
       "\n",
       "[5 rows x 21 columns]"
      ]
     },
     "execution_count": 11,
     "metadata": {},
     "output_type": "execute_result"
    }
   ],
   "source": [
    "def fix_skewness(df):\n",
    "    feature_skew, numeric_features = feature_skewness(df)\n",
    "    high_skew = feature_skew[feature_skew > 0.5]\n",
    "    skew_index = high_skew.index\n",
    "    \n",
    "    for i in skew_index:\n",
    "        df[i] = boxcox1p(df[i], boxcox_normmax(df[i]+1))\n",
    "\n",
    "    skew_features = df[numeric_features].apply(\n",
    "        lambda x: skew(x)).sort_values(ascending=False)\n",
    "    skews = pd.DataFrame({'skew':skew_features})\n",
    "    return df\n",
    "fix_skewness(df1)\n",
    "df1.head()"
   ]
  },
  {
   "cell_type": "markdown",
   "metadata": {},
   "source": [
    "# Standardize average montly hours"
   ]
  },
  {
   "cell_type": "code",
   "execution_count": 12,
   "metadata": {},
   "outputs": [
    {
     "data": {
      "text/html": [
       "<div>\n",
       "<style scoped>\n",
       "    .dataframe tbody tr th:only-of-type {\n",
       "        vertical-align: middle;\n",
       "    }\n",
       "\n",
       "    .dataframe tbody tr th {\n",
       "        vertical-align: top;\n",
       "    }\n",
       "\n",
       "    .dataframe thead th {\n",
       "        text-align: right;\n",
       "    }\n",
       "</style>\n",
       "<table border=\"1\" class=\"dataframe\">\n",
       "  <thead>\n",
       "    <tr style=\"text-align: right;\">\n",
       "      <th></th>\n",
       "      <th>satisfaction_level</th>\n",
       "      <th>last_evaluation</th>\n",
       "      <th>number_project</th>\n",
       "      <th>time_spend_company</th>\n",
       "      <th>Work_accident</th>\n",
       "      <th>left</th>\n",
       "      <th>promotion_last_5years</th>\n",
       "      <th>salary_high</th>\n",
       "      <th>salary_low</th>\n",
       "      <th>salary_medium</th>\n",
       "      <th>...</th>\n",
       "      <th>sales_RandD</th>\n",
       "      <th>sales_accounting</th>\n",
       "      <th>sales_hr</th>\n",
       "      <th>sales_management</th>\n",
       "      <th>sales_marketing</th>\n",
       "      <th>sales_product_mng</th>\n",
       "      <th>sales_sales</th>\n",
       "      <th>sales_support</th>\n",
       "      <th>sales_technical</th>\n",
       "      <th>normalized_avg_monthly_hrs</th>\n",
       "    </tr>\n",
       "  </thead>\n",
       "  <tbody>\n",
       "    <tr>\n",
       "      <th>0</th>\n",
       "      <td>0.38</td>\n",
       "      <td>0.53</td>\n",
       "      <td>2</td>\n",
       "      <td>3</td>\n",
       "      <td>False</td>\n",
       "      <td>True</td>\n",
       "      <td>False</td>\n",
       "      <td>0</td>\n",
       "      <td>1</td>\n",
       "      <td>0</td>\n",
       "      <td>...</td>\n",
       "      <td>0</td>\n",
       "      <td>0</td>\n",
       "      <td>0</td>\n",
       "      <td>0</td>\n",
       "      <td>0</td>\n",
       "      <td>0</td>\n",
       "      <td>1</td>\n",
       "      <td>0</td>\n",
       "      <td>0</td>\n",
       "      <td>0.285047</td>\n",
       "    </tr>\n",
       "    <tr>\n",
       "      <th>1</th>\n",
       "      <td>0.80</td>\n",
       "      <td>0.86</td>\n",
       "      <td>5</td>\n",
       "      <td>6</td>\n",
       "      <td>False</td>\n",
       "      <td>True</td>\n",
       "      <td>False</td>\n",
       "      <td>0</td>\n",
       "      <td>0</td>\n",
       "      <td>1</td>\n",
       "      <td>...</td>\n",
       "      <td>0</td>\n",
       "      <td>0</td>\n",
       "      <td>0</td>\n",
       "      <td>0</td>\n",
       "      <td>0</td>\n",
       "      <td>0</td>\n",
       "      <td>1</td>\n",
       "      <td>0</td>\n",
       "      <td>0</td>\n",
       "      <td>0.775701</td>\n",
       "    </tr>\n",
       "    <tr>\n",
       "      <th>2</th>\n",
       "      <td>0.11</td>\n",
       "      <td>0.88</td>\n",
       "      <td>7</td>\n",
       "      <td>4</td>\n",
       "      <td>False</td>\n",
       "      <td>True</td>\n",
       "      <td>False</td>\n",
       "      <td>0</td>\n",
       "      <td>0</td>\n",
       "      <td>1</td>\n",
       "      <td>...</td>\n",
       "      <td>0</td>\n",
       "      <td>0</td>\n",
       "      <td>0</td>\n",
       "      <td>0</td>\n",
       "      <td>0</td>\n",
       "      <td>0</td>\n",
       "      <td>1</td>\n",
       "      <td>0</td>\n",
       "      <td>0</td>\n",
       "      <td>0.822430</td>\n",
       "    </tr>\n",
       "    <tr>\n",
       "      <th>3</th>\n",
       "      <td>0.72</td>\n",
       "      <td>0.87</td>\n",
       "      <td>5</td>\n",
       "      <td>5</td>\n",
       "      <td>False</td>\n",
       "      <td>True</td>\n",
       "      <td>False</td>\n",
       "      <td>0</td>\n",
       "      <td>1</td>\n",
       "      <td>0</td>\n",
       "      <td>...</td>\n",
       "      <td>0</td>\n",
       "      <td>0</td>\n",
       "      <td>0</td>\n",
       "      <td>0</td>\n",
       "      <td>0</td>\n",
       "      <td>0</td>\n",
       "      <td>1</td>\n",
       "      <td>0</td>\n",
       "      <td>0</td>\n",
       "      <td>0.593458</td>\n",
       "    </tr>\n",
       "    <tr>\n",
       "      <th>4</th>\n",
       "      <td>0.37</td>\n",
       "      <td>0.52</td>\n",
       "      <td>2</td>\n",
       "      <td>3</td>\n",
       "      <td>False</td>\n",
       "      <td>True</td>\n",
       "      <td>False</td>\n",
       "      <td>0</td>\n",
       "      <td>1</td>\n",
       "      <td>0</td>\n",
       "      <td>...</td>\n",
       "      <td>0</td>\n",
       "      <td>0</td>\n",
       "      <td>0</td>\n",
       "      <td>0</td>\n",
       "      <td>0</td>\n",
       "      <td>0</td>\n",
       "      <td>1</td>\n",
       "      <td>0</td>\n",
       "      <td>0</td>\n",
       "      <td>0.294393</td>\n",
       "    </tr>\n",
       "  </tbody>\n",
       "</table>\n",
       "<p>5 rows × 21 columns</p>\n",
       "</div>"
      ],
      "text/plain": [
       "   satisfaction_level  last_evaluation number_project time_spend_company  \\\n",
       "0                0.38             0.53              2                  3   \n",
       "1                0.80             0.86              5                  6   \n",
       "2                0.11             0.88              7                  4   \n",
       "3                0.72             0.87              5                  5   \n",
       "4                0.37             0.52              2                  3   \n",
       "\n",
       "   Work_accident  left  promotion_last_5years  salary_high  salary_low  \\\n",
       "0          False  True                  False            0           1   \n",
       "1          False  True                  False            0           0   \n",
       "2          False  True                  False            0           0   \n",
       "3          False  True                  False            0           1   \n",
       "4          False  True                  False            0           1   \n",
       "\n",
       "   salary_medium             ...              sales_RandD  sales_accounting  \\\n",
       "0              0             ...                        0                 0   \n",
       "1              1             ...                        0                 0   \n",
       "2              1             ...                        0                 0   \n",
       "3              0             ...                        0                 0   \n",
       "4              0             ...                        0                 0   \n",
       "\n",
       "   sales_hr  sales_management  sales_marketing  sales_product_mng  \\\n",
       "0         0                 0                0                  0   \n",
       "1         0                 0                0                  0   \n",
       "2         0                 0                0                  0   \n",
       "3         0                 0                0                  0   \n",
       "4         0                 0                0                  0   \n",
       "\n",
       "   sales_sales  sales_support  sales_technical  normalized_avg_monthly_hrs  \n",
       "0            1              0                0                    0.285047  \n",
       "1            1              0                0                    0.775701  \n",
       "2            1              0                0                    0.822430  \n",
       "3            1              0                0                    0.593458  \n",
       "4            1              0                0                    0.294393  \n",
       "\n",
       "[5 rows x 21 columns]"
      ]
     },
     "execution_count": 12,
     "metadata": {},
     "output_type": "execute_result"
    }
   ],
   "source": [
    "#standardize average_montly_hours\n",
    "# Create x, where x the 'scores' column's values as floats\n",
    "x = df1[['average_montly_hours']].values.astype(float)\n",
    "\n",
    "# Create a minimum and maximum processor object\n",
    "min_max_scaler = preprocessing.MinMaxScaler()\n",
    "\n",
    "# Create an object to transform the data to fit minmax processor\n",
    "x_scaled = min_max_scaler.fit_transform(x)\n",
    "\n",
    "# Run the normalizer on the dataframe\n",
    "df_normalized = pd.DataFrame(x_scaled)\n",
    "# View the dataframe\n",
    "df_normalized\n",
    "df1=df1.drop(\"average_montly_hours\", axis=1)\n",
    "df1=df1.join(df_normalized)\n",
    "df1 = df1.rename(columns={0: 'normalized_avg_monthly_hrs'})\n",
    "df1.head()"
   ]
  },
  {
   "cell_type": "code",
   "execution_count": 13,
   "metadata": {},
   "outputs": [
    {
     "data": {
      "text/plain": [
       "count    14999.000000\n",
       "mean         0.490889\n",
       "std          0.233379\n",
       "min          0.000000\n",
       "25%          0.280374\n",
       "50%          0.485981\n",
       "75%          0.696262\n",
       "max          1.000000\n",
       "Name: normalized_avg_monthly_hrs, dtype: float64"
      ]
     },
     "execution_count": 13,
     "metadata": {},
     "output_type": "execute_result"
    }
   ],
   "source": [
    "df1['normalized_avg_monthly_hrs'].describe().T"
   ]
  },
  {
   "cell_type": "markdown",
   "metadata": {},
   "source": [
    "# 3. Exploratory Data Analysis"
   ]
  },
  {
   "cell_type": "code",
   "execution_count": 14,
   "metadata": {},
   "outputs": [
    {
     "data": {
      "text/plain": [
       "<matplotlib.axes._subplots.AxesSubplot at 0x1c1b08e048>"
      ]
     },
     "execution_count": 14,
     "metadata": {},
     "output_type": "execute_result"
    },
    {
     "data": {
      "image/png": "[encoded data removed]",
      "text/plain": [
       "<Figure size 720x432 with 2 Axes>"
      ]
     },
     "metadata": {
      "needs_background": "light"
     },
     "output_type": "display_data"
    }
   ],
   "source": [
    "#Correlation matrix\n",
    "plt.figure(figsize=(10,6))\n",
    "sns.heatmap(df.corr(),cbar=True,fmt =' .4f', annot=True, cmap='viridis')"
   ]
  },
  {
   "cell_type": "code",
   "execution_count": 15,
   "metadata": {},
   "outputs": [
    {
     "data": {
      "text/plain": [
       "Text(0.5, 1.0, 'Sales type - Left vs Did not leave')"
      ]
     },
     "execution_count": 15,
     "metadata": {},
     "output_type": "execute_result"
    },
    {
     "data": {
      "image/png": "[encoded data removed]",
      "text/plain": [
       "<Figure size 1080x288 with 1 Axes>"
      ]
     },
     "metadata": {
      "needs_background": "light"
     },
     "output_type": "display_data"
    },
    {
     "data": {
      "image/png": "[encoded data removed]",
      "text/plain": [
       "<Figure size 1080x288 with 1 Axes>"
      ]
     },
     "metadata": {
      "needs_background": "light"
     },
     "output_type": "display_data"
    },
    {
     "data": {
      "image/png": "[encoded data removed]",
      "text/plain": [
       "<Figure size 1080x288 with 1 Axes>"
      ]
     },
     "metadata": {
      "needs_background": "light"
     },
     "output_type": "display_data"
    },
    {
     "data": {
      "image/png": "[encoded data removed]",
      "text/plain": [
       "<Figure size 720x288 with 1 Axes>"
      ]
     },
     "metadata": {
      "needs_background": "light"
     },
     "output_type": "display_data"
    },
    {
     "data": {
      "image/png": "[encoded data removed]",
      "text/plain": [
       "<Figure size 720x288 with 1 Axes>"
      ]
     },
     "metadata": {
      "needs_background": "light"
     },
     "output_type": "display_data"
    },
    {
     "data": {
      "image/png": "[encoded data removed]",
      "text/plain": [
       "<Figure size 720x288 with 1 Axes>"
      ]
     },
     "metadata": {
      "needs_background": "light"
     },
     "output_type": "display_data"
    },
    {
     "data": {
      "image/png": "[encoded data removed]",
      "text/plain": [
       "<Figure size 720x288 with 1 Axes>"
      ]
     },
     "metadata": {
      "needs_background": "light"
     },
     "output_type": "display_data"
    }
   ],
   "source": [
    "#Density Last Evaluation\n",
    "fig=plt.figure(figsize=(15,4))\n",
    "ax=sns.kdeplot(df1.loc[(df['left']==0),'last_evaluation'],color='g',shade=False,label='Did not leave')\n",
    "ax=sns.kdeplot(df1.loc[(df['left']==1),'last_evaluation'],color='r',shade=True,label='Left')\n",
    "ax.set(xlabel='Last Evaluation Rating',ylabel='Frequency')\n",
    "plt.title('Last Evaluation Rating - Left vs Did not leave')\n",
    "ax.xaxis.set_major_locator(plt.MaxNLocator(20))\n",
    "\n",
    "#Density Average Montly Hours\n",
    "fig=plt.figure(figsize=(15,4))\n",
    "ax=sns.kdeplot(df1.loc[(df['left']==0),'normalized_avg_monthly_hrs'],color='g',shade=False,label='Did not leave')\n",
    "ax=sns.kdeplot(df1.loc[(df['left']==1),'normalized_avg_monthly_hrs'],color='r',shade=True,label='Left')\n",
    "ax.set(xlabel='Average Montly Hours',ylabel='Frequency')\n",
    "plt.title('Average Montly Hours - Left vs Did not leave')\n",
    "ax.xaxis.set_major_locator(plt.MaxNLocator(20))\n",
    "\n",
    "#Density Employee Satisfaction Level\n",
    "fig=plt.figure(figsize=(15,4))\n",
    "ax=sns.kdeplot(df1.loc[(df['left']==0),'satisfaction_level'],color='g',shade=False,label='Did not leave')\n",
    "ax=sns.kdeplot(df1.loc[(df['left']==1),'satisfaction_level'],color='r',shade=True,label='Left')\n",
    "ax.set(xlabel='Employee Satisfaction Level',ylabel='Frequency')\n",
    "plt.title('Employee Satisfaction Level - Left vs Did not leave')\n",
    "ax.xaxis.set_major_locator(plt.MaxNLocator(20))\n",
    "\n",
    "#Bar Time Spent in Company\n",
    "plt.figure(figsize=(10,4))\n",
    "ax = ((df[df.left==0].time_spend_company.value_counts().sort_index()/len(df.left))*100).plot(kind='bar',color='g')\n",
    "((df[df.left==1].time_spend_company.value_counts().sort_index()/len(df.left)*100)).plot(kind='bar',color='r')\n",
    "ax.legend([\"Did not leave\", \"Left\"])\n",
    "ax.set(ylabel='Frequency')\n",
    "plt.title('Time Spent in Company (category) - Left vs Did not leave')\n",
    "\n",
    "#Bar Number Project\n",
    "plt.figure(figsize=(10,4))\n",
    "ax = ((df[df.left==0].number_project.value_counts().sort_index()/len(df.left))*100).plot(kind='bar',color='g')\n",
    "((df[df.left==1].number_project.value_counts().sort_index()/len(df.left)*100)).plot(kind='bar',color='r')\n",
    "ax.legend([\"Did not leave\", \"Left\"])\n",
    "ax.set(ylabel='Frequency')\n",
    "plt.title('Project number - Left vs Did not leave')\n",
    "\n",
    "#Bar Chart Salary Level\n",
    "plt.figure(figsize=(10,4))\n",
    "ax = ((df[df.left==0].salary.value_counts().sort_index()/len(df.left))*100).plot(kind='bar',color='g')\n",
    "((df[df.left==1].salary.value_counts().sort_index()/len(df.left)*100)).plot(kind='bar',color='r')\n",
    "ax.legend([\"Did not leave\", \"Left\"])\n",
    "ax.set(ylabel='Frequency')\n",
    "plt.title('Salary Level - Left vs Did not leave')\n",
    "\n",
    "#Bar Chart Sales Type\n",
    "plt.figure(figsize=(10,4))\n",
    "ax = ((df[df.left==0].sales.value_counts().sort_index()/len(df.left))*100).plot(kind='bar',color='g')\n",
    "((df[df.left==1].sales.value_counts().sort_index()/len(df.left)*100)).plot(kind='bar',color='r')\n",
    "ax.legend([\"Did not leave\", \"Left\"])\n",
    "ax.set(ylabel='Frequency')\n",
    "plt.title('Sales type - Left vs Did not leave')"
   ]
  },
  {
   "cell_type": "markdown",
   "metadata": {},
   "source": [
    "Summary statistics"
   ]
  },
  {
   "cell_type": "code",
   "execution_count": 16,
   "metadata": {},
   "outputs": [
    {
     "data": {
      "text/html": [
       "<div>\n",
       "<style scoped>\n",
       "    .dataframe tbody tr th:only-of-type {\n",
       "        vertical-align: middle;\n",
       "    }\n",
       "\n",
       "    .dataframe tbody tr th {\n",
       "        vertical-align: top;\n",
       "    }\n",
       "\n",
       "    .dataframe thead th {\n",
       "        text-align: right;\n",
       "    }\n",
       "</style>\n",
       "<table border=\"1\" class=\"dataframe\">\n",
       "  <thead>\n",
       "    <tr style=\"text-align: right;\">\n",
       "      <th></th>\n",
       "      <th>satisfaction_level</th>\n",
       "      <th>last_evaluation</th>\n",
       "      <th>salary_high</th>\n",
       "      <th>salary_low</th>\n",
       "      <th>salary_medium</th>\n",
       "      <th>sales_IT</th>\n",
       "      <th>sales_RandD</th>\n",
       "      <th>sales_accounting</th>\n",
       "      <th>sales_hr</th>\n",
       "      <th>sales_management</th>\n",
       "      <th>sales_marketing</th>\n",
       "      <th>sales_product_mng</th>\n",
       "      <th>sales_sales</th>\n",
       "      <th>sales_support</th>\n",
       "      <th>sales_technical</th>\n",
       "      <th>normalized_avg_monthly_hrs</th>\n",
       "    </tr>\n",
       "  </thead>\n",
       "  <tbody>\n",
       "    <tr>\n",
       "      <th>count</th>\n",
       "      <td>14999.000000</td>\n",
       "      <td>14999.000000</td>\n",
       "      <td>14999.000000</td>\n",
       "      <td>14999.000000</td>\n",
       "      <td>14999.000000</td>\n",
       "      <td>14999.000000</td>\n",
       "      <td>14999.000000</td>\n",
       "      <td>14999.000000</td>\n",
       "      <td>14999.000000</td>\n",
       "      <td>14999.000000</td>\n",
       "      <td>14999.000000</td>\n",
       "      <td>14999.000000</td>\n",
       "      <td>14999.000000</td>\n",
       "      <td>14999.000000</td>\n",
       "      <td>14999.000000</td>\n",
       "      <td>14999.000000</td>\n",
       "    </tr>\n",
       "    <tr>\n",
       "      <th>mean</th>\n",
       "      <td>0.612834</td>\n",
       "      <td>0.716102</td>\n",
       "      <td>0.082472</td>\n",
       "      <td>0.487766</td>\n",
       "      <td>0.429762</td>\n",
       "      <td>0.081805</td>\n",
       "      <td>0.052470</td>\n",
       "      <td>0.051137</td>\n",
       "      <td>0.049270</td>\n",
       "      <td>0.042003</td>\n",
       "      <td>0.057204</td>\n",
       "      <td>0.060137</td>\n",
       "      <td>0.276018</td>\n",
       "      <td>0.148610</td>\n",
       "      <td>0.181345</td>\n",
       "      <td>0.490889</td>\n",
       "    </tr>\n",
       "    <tr>\n",
       "      <th>std</th>\n",
       "      <td>0.248631</td>\n",
       "      <td>0.171169</td>\n",
       "      <td>0.275092</td>\n",
       "      <td>0.499867</td>\n",
       "      <td>0.495059</td>\n",
       "      <td>0.274077</td>\n",
       "      <td>0.222981</td>\n",
       "      <td>0.220284</td>\n",
       "      <td>0.216438</td>\n",
       "      <td>0.200602</td>\n",
       "      <td>0.232239</td>\n",
       "      <td>0.237749</td>\n",
       "      <td>0.447041</td>\n",
       "      <td>0.355715</td>\n",
       "      <td>0.385317</td>\n",
       "      <td>0.233379</td>\n",
       "    </tr>\n",
       "    <tr>\n",
       "      <th>min</th>\n",
       "      <td>0.090000</td>\n",
       "      <td>0.360000</td>\n",
       "      <td>0.000000</td>\n",
       "      <td>0.000000</td>\n",
       "      <td>0.000000</td>\n",
       "      <td>0.000000</td>\n",
       "      <td>0.000000</td>\n",
       "      <td>0.000000</td>\n",
       "      <td>0.000000</td>\n",
       "      <td>0.000000</td>\n",
       "      <td>0.000000</td>\n",
       "      <td>0.000000</td>\n",
       "      <td>0.000000</td>\n",
       "      <td>0.000000</td>\n",
       "      <td>0.000000</td>\n",
       "      <td>0.000000</td>\n",
       "    </tr>\n",
       "    <tr>\n",
       "      <th>25%</th>\n",
       "      <td>0.440000</td>\n",
       "      <td>0.560000</td>\n",
       "      <td>0.000000</td>\n",
       "      <td>0.000000</td>\n",
       "      <td>0.000000</td>\n",
       "      <td>0.000000</td>\n",
       "      <td>0.000000</td>\n",
       "      <td>0.000000</td>\n",
       "      <td>0.000000</td>\n",
       "      <td>0.000000</td>\n",
       "      <td>0.000000</td>\n",
       "      <td>0.000000</td>\n",
       "      <td>0.000000</td>\n",
       "      <td>0.000000</td>\n",
       "      <td>0.000000</td>\n",
       "      <td>0.280374</td>\n",
       "    </tr>\n",
       "    <tr>\n",
       "      <th>50%</th>\n",
       "      <td>0.640000</td>\n",
       "      <td>0.720000</td>\n",
       "      <td>0.000000</td>\n",
       "      <td>0.000000</td>\n",
       "      <td>0.000000</td>\n",
       "      <td>0.000000</td>\n",
       "      <td>0.000000</td>\n",
       "      <td>0.000000</td>\n",
       "      <td>0.000000</td>\n",
       "      <td>0.000000</td>\n",
       "      <td>0.000000</td>\n",
       "      <td>0.000000</td>\n",
       "      <td>0.000000</td>\n",
       "      <td>0.000000</td>\n",
       "      <td>0.000000</td>\n",
       "      <td>0.485981</td>\n",
       "    </tr>\n",
       "    <tr>\n",
       "      <th>75%</th>\n",
       "      <td>0.820000</td>\n",
       "      <td>0.870000</td>\n",
       "      <td>0.000000</td>\n",
       "      <td>1.000000</td>\n",
       "      <td>1.000000</td>\n",
       "      <td>0.000000</td>\n",
       "      <td>0.000000</td>\n",
       "      <td>0.000000</td>\n",
       "      <td>0.000000</td>\n",
       "      <td>0.000000</td>\n",
       "      <td>0.000000</td>\n",
       "      <td>0.000000</td>\n",
       "      <td>1.000000</td>\n",
       "      <td>0.000000</td>\n",
       "      <td>0.000000</td>\n",
       "      <td>0.696262</td>\n",
       "    </tr>\n",
       "    <tr>\n",
       "      <th>max</th>\n",
       "      <td>1.000000</td>\n",
       "      <td>1.000000</td>\n",
       "      <td>1.000000</td>\n",
       "      <td>1.000000</td>\n",
       "      <td>1.000000</td>\n",
       "      <td>1.000000</td>\n",
       "      <td>1.000000</td>\n",
       "      <td>1.000000</td>\n",
       "      <td>1.000000</td>\n",
       "      <td>1.000000</td>\n",
       "      <td>1.000000</td>\n",
       "      <td>1.000000</td>\n",
       "      <td>1.000000</td>\n",
       "      <td>1.000000</td>\n",
       "      <td>1.000000</td>\n",
       "      <td>1.000000</td>\n",
       "    </tr>\n",
       "  </tbody>\n",
       "</table>\n",
       "</div>"
      ],
      "text/plain": [
       "       satisfaction_level  last_evaluation   salary_high    salary_low  \\\n",
       "count        14999.000000     14999.000000  14999.000000  14999.000000   \n",
       "mean             0.612834         0.716102      0.082472      0.487766   \n",
       "std              0.248631         0.171169      0.275092      0.499867   \n",
       "min              0.090000         0.360000      0.000000      0.000000   \n",
       "25%              0.440000         0.560000      0.000000      0.000000   \n",
       "50%              0.640000         0.720000      0.000000      0.000000   \n",
       "75%              0.820000         0.870000      0.000000      1.000000   \n",
       "max              1.000000         1.000000      1.000000      1.000000   \n",
       "\n",
       "       salary_medium      sales_IT   sales_RandD  sales_accounting  \\\n",
       "count   14999.000000  14999.000000  14999.000000      14999.000000   \n",
       "mean        0.429762      0.081805      0.052470          0.051137   \n",
       "std         0.495059      0.274077      0.222981          0.220284   \n",
       "min         0.000000      0.000000      0.000000          0.000000   \n",
       "25%         0.000000      0.000000      0.000000          0.000000   \n",
       "50%         0.000000      0.000000      0.000000          0.000000   \n",
       "75%         1.000000      0.000000      0.000000          0.000000   \n",
       "max         1.000000      1.000000      1.000000          1.000000   \n",
       "\n",
       "           sales_hr  sales_management  sales_marketing  sales_product_mng  \\\n",
       "count  14999.000000      14999.000000     14999.000000       14999.000000   \n",
       "mean       0.049270          0.042003         0.057204           0.060137   \n",
       "std        0.216438          0.200602         0.232239           0.237749   \n",
       "min        0.000000          0.000000         0.000000           0.000000   \n",
       "25%        0.000000          0.000000         0.000000           0.000000   \n",
       "50%        0.000000          0.000000         0.000000           0.000000   \n",
       "75%        0.000000          0.000000         0.000000           0.000000   \n",
       "max        1.000000          1.000000         1.000000           1.000000   \n",
       "\n",
       "        sales_sales  sales_support  sales_technical  \\\n",
       "count  14999.000000   14999.000000     14999.000000   \n",
       "mean       0.276018       0.148610         0.181345   \n",
       "std        0.447041       0.355715         0.385317   \n",
       "min        0.000000       0.000000         0.000000   \n",
       "25%        0.000000       0.000000         0.000000   \n",
       "50%        0.000000       0.000000         0.000000   \n",
       "75%        1.000000       0.000000         0.000000   \n",
       "max        1.000000       1.000000         1.000000   \n",
       "\n",
       "       normalized_avg_monthly_hrs  \n",
       "count                14999.000000  \n",
       "mean                     0.490889  \n",
       "std                      0.233379  \n",
       "min                      0.000000  \n",
       "25%                      0.280374  \n",
       "50%                      0.485981  \n",
       "75%                      0.696262  \n",
       "max                      1.000000  "
      ]
     },
     "execution_count": 16,
     "metadata": {},
     "output_type": "execute_result"
    }
   ],
   "source": [
    "#univariate analysis\n",
    "df1.describe()"
   ]
  },
  {
   "cell_type": "code",
   "execution_count": 17,
   "metadata": {},
   "outputs": [
    {
     "data": {
      "text/html": [
       "<div>\n",
       "<style scoped>\n",
       "    .dataframe tbody tr th:only-of-type {\n",
       "        vertical-align: middle;\n",
       "    }\n",
       "\n",
       "    .dataframe tbody tr th {\n",
       "        vertical-align: top;\n",
       "    }\n",
       "\n",
       "    .dataframe thead th {\n",
       "        text-align: right;\n",
       "    }\n",
       "</style>\n",
       "<table border=\"1\" class=\"dataframe\">\n",
       "  <thead>\n",
       "    <tr style=\"text-align: right;\">\n",
       "      <th></th>\n",
       "      <th>satisfaction_level</th>\n",
       "      <th>last_evaluation</th>\n",
       "      <th>Work_accident</th>\n",
       "      <th>promotion_last_5years</th>\n",
       "      <th>salary_high</th>\n",
       "      <th>salary_low</th>\n",
       "      <th>salary_medium</th>\n",
       "      <th>sales_IT</th>\n",
       "      <th>sales_RandD</th>\n",
       "      <th>sales_accounting</th>\n",
       "      <th>sales_hr</th>\n",
       "      <th>sales_management</th>\n",
       "      <th>sales_marketing</th>\n",
       "      <th>sales_product_mng</th>\n",
       "      <th>sales_sales</th>\n",
       "      <th>sales_support</th>\n",
       "      <th>sales_technical</th>\n",
       "      <th>normalized_avg_monthly_hrs</th>\n",
       "    </tr>\n",
       "    <tr>\n",
       "      <th>left</th>\n",
       "      <th></th>\n",
       "      <th></th>\n",
       "      <th></th>\n",
       "      <th></th>\n",
       "      <th></th>\n",
       "      <th></th>\n",
       "      <th></th>\n",
       "      <th></th>\n",
       "      <th></th>\n",
       "      <th></th>\n",
       "      <th></th>\n",
       "      <th></th>\n",
       "      <th></th>\n",
       "      <th></th>\n",
       "      <th></th>\n",
       "      <th></th>\n",
       "      <th></th>\n",
       "      <th></th>\n",
       "    </tr>\n",
       "  </thead>\n",
       "  <tbody>\n",
       "    <tr>\n",
       "      <th>False</th>\n",
       "      <td>0.666810</td>\n",
       "      <td>0.715473</td>\n",
       "      <td>0.175009</td>\n",
       "      <td>0.026251</td>\n",
       "      <td>0.101068</td>\n",
       "      <td>0.450123</td>\n",
       "      <td>0.448810</td>\n",
       "      <td>0.083479</td>\n",
       "      <td>0.058278</td>\n",
       "      <td>0.049265</td>\n",
       "      <td>0.045852</td>\n",
       "      <td>0.047165</td>\n",
       "      <td>0.057315</td>\n",
       "      <td>0.061603</td>\n",
       "      <td>0.273539</td>\n",
       "      <td>0.146482</td>\n",
       "      <td>0.177021</td>\n",
       "      <td>0.481590</td>\n",
       "    </tr>\n",
       "    <tr>\n",
       "      <th>True</th>\n",
       "      <td>0.440098</td>\n",
       "      <td>0.718113</td>\n",
       "      <td>0.047326</td>\n",
       "      <td>0.005321</td>\n",
       "      <td>0.022963</td>\n",
       "      <td>0.608233</td>\n",
       "      <td>0.368804</td>\n",
       "      <td>0.076449</td>\n",
       "      <td>0.033884</td>\n",
       "      <td>0.057127</td>\n",
       "      <td>0.060207</td>\n",
       "      <td>0.025483</td>\n",
       "      <td>0.056847</td>\n",
       "      <td>0.055447</td>\n",
       "      <td>0.283954</td>\n",
       "      <td>0.155419</td>\n",
       "      <td>0.195183</td>\n",
       "      <td>0.520651</td>\n",
       "    </tr>\n",
       "  </tbody>\n",
       "</table>\n",
       "</div>"
      ],
      "text/plain": [
       "       satisfaction_level  last_evaluation  Work_accident  \\\n",
       "left                                                        \n",
       "False            0.666810         0.715473       0.175009   \n",
       "True             0.440098         0.718113       0.047326   \n",
       "\n",
       "       promotion_last_5years  salary_high  salary_low  salary_medium  \\\n",
       "left                                                                   \n",
       "False               0.026251     0.101068    0.450123       0.448810   \n",
       "True                0.005321     0.022963    0.608233       0.368804   \n",
       "\n",
       "       sales_IT  sales_RandD  sales_accounting  sales_hr  sales_management  \\\n",
       "left                                                                         \n",
       "False  0.083479     0.058278          0.049265  0.045852          0.047165   \n",
       "True   0.076449     0.033884          0.057127  0.060207          0.025483   \n",
       "\n",
       "       sales_marketing  sales_product_mng  sales_sales  sales_support  \\\n",
       "left                                                                    \n",
       "False         0.057315           0.061603     0.273539       0.146482   \n",
       "True          0.056847           0.055447     0.283954       0.155419   \n",
       "\n",
       "       sales_technical  normalized_avg_monthly_hrs  \n",
       "left                                                \n",
       "False         0.177021                    0.481590  \n",
       "True          0.195183                    0.520651  "
      ]
     },
     "execution_count": 17,
     "metadata": {},
     "output_type": "execute_result"
    }
   ],
   "source": [
    "#Summary based on left\n",
    "df2=df1.groupby('left')\n",
    "df2.mean()"
   ]
  },
  {
   "cell_type": "markdown",
   "metadata": {},
   "source": [
    "# 4. Baseline with model selection and cross validation"
   ]
  },
  {
   "cell_type": "code",
   "execution_count": 18,
   "metadata": {},
   "outputs": [],
   "source": [
    "def score_logModel(data, seed=666):\n",
    "    X = data.loc[:, data.columns != 'left']\n",
    "    y = data.loc[:, 'left']\n",
    "    X_train, X_test, y_train, y_test = train_test_split(X, y, \n",
    "                                                        test_size=0.20, \n",
    "                                                        random_state=seed)\n",
    "    \n",
    "    # Create log regression object\n",
    "    logreg = LogisticRegression(solver='lbfgs')\n",
    "    logreg.fit(X_train, y_train)\n",
    "    \n",
    "    y_pred = logreg.predict(X_test)\n",
    "    return logreg.score(X_test,y_test)\n",
    "\n",
    "def score_linModel(data, seed=666):\n",
    "    X = data.loc[:, data.columns != 'left']\n",
    "    y = data.loc[:, 'left']\n",
    "    X_train, X_test, y_train, y_test = train_test_split(X, y, \n",
    "                                                        test_size=0.20, \n",
    "                                                        random_state=seed)\n",
    "    \n",
    "    # Create lin regression object\n",
    "    linreg = linear_model.LinearRegression()\n",
    "    linreg.fit(X_train, y_train)\n",
    "    \n",
    "    y_pred = linreg.predict(X_test)\n",
    "    return linreg.score(X_test,y_test)"
   ]
  },
  {
   "cell_type": "code",
   "execution_count": 19,
   "metadata": {},
   "outputs": [
    {
     "name": "stdout",
     "output_type": "stream",
     "text": [
      "Logistic regression model score: 0.7887\n",
      "Linear regression model score: 0.2132\n"
     ]
    }
   ],
   "source": [
    "print(\"Logistic regression model score: {:.4f}\".format(score_logModel(df1)))\n",
    "print(\"Linear regression model score: {:.4f}\".format(score_linModel(df1)))"
   ]
  },
  {
   "cell_type": "code",
   "execution_count": 20,
   "metadata": {},
   "outputs": [],
   "source": [
    "def cv_evaluate(df, splits=100):\n",
    "    lr = LogisticRegression()\n",
    "    kfolds = KFold(n_splits=10, shuffle=True, random_state=23)\n",
    "\n",
    "    X = df.drop(['left'], axis=1)\n",
    "    y = df.left.reset_index(drop=True)\n",
    "    benchmark_model = make_pipeline(RobustScaler(), lr).fit(X=X, y=y)\n",
    "    scores = cross_val_score(benchmark_model, X, y, scoring='accuracy', cv=kfolds)\n",
    "    return scores[scores>=0.0]"
   ]
  },
  {
   "cell_type": "code",
   "execution_count": 21,
   "metadata": {
    "scrolled": true
   },
   "outputs": [
    {
     "name": "stdout",
     "output_type": "stream",
     "text": [
      "Min Accuracy: 0.7753\n",
      "Max Accuracy: 0.8067\n",
      "Mean Accuracy: 0.7913\n"
     ]
    }
   ],
   "source": [
    "accuracy_baseline = cv_evaluate(df1)\n",
    "print(\"Min Accuracy: {:.4f}\".format(np.min(accuracy_baseline)))\n",
    "print(\"Max Accuracy: {:.4f}\".format(np.max(accuracy_baseline)))\n",
    "print(\"Mean Accuracy: {:.4f}\".format(np.mean(accuracy_baseline)))"
   ]
  },
  {
   "cell_type": "markdown",
   "metadata": {},
   "source": [
    "# 5. Feature engineering"
   ]
  },
  {
   "cell_type": "markdown",
   "metadata": {},
   "source": [
    "First, we plot the feature importance with a decision tree classifier in order to study the variable importance."
   ]
  },
  {
   "cell_type": "code",
   "execution_count": 22,
   "metadata": {},
   "outputs": [
    {
     "data": {
      "image/png": "[encoded data removed]",
      "text/plain": [
       "<Figure size 864x432 with 1 Axes>"
      ]
     },
     "metadata": {
      "needs_background": "light"
     },
     "output_type": "display_data"
    }
   ],
   "source": [
    "from sklearn import tree\n",
    "from sklearn.tree import DecisionTreeClassifier\n",
    "from sklearn.model_selection import train_test_split\n",
    "# Create train and test splits\n",
    "target_name = 'left'\n",
    "X = df1.drop('left', axis=1)\n",
    "\n",
    "y=df1[target_name]\n",
    "X_train,X_test,y_train,t_test=train_test_split(X,y,test_size=0.15, random_state=123, stratify=y)\n",
    "\n",
    "dtree = tree.DecisionTreeClassifier(\n",
    "    #max_depth=3,\n",
    "    class_weight=\"balanced\",\n",
    "    min_weight_fraction_leaf=0.01\n",
    "    )\n",
    "dtree = dtree.fit(X_train,y_train)\n",
    "\n",
    "## plot the importances ##\n",
    "importances = dtree.feature_importances_\n",
    "feat_names = df1.drop(['left'],axis=1).columns\n",
    "\n",
    "indices = np.argsort(importances)[::-1]\n",
    "plt.figure(figsize=(12,6))\n",
    "plt.title(\"Feature importances by DecisionTreeClassifier\")\n",
    "plt.bar(range(len(indices)), importances[indices], color='lightblue',  align=\"center\")\n",
    "plt.step(range(len(indices)), np.cumsum(importances[indices]), where='mid', label='Cumulative')\n",
    "plt.xticks(range(len(indices)), feat_names[indices], rotation='vertical',fontsize=14)\n",
    "plt.xlim([-1, len(indices)])\n",
    "plt.show()"
   ]
  },
  {
   "cell_type": "markdown",
   "metadata": {},
   "source": [
    "Next, we use binning, in order to create features that improve the accuracy prediction."
   ]
  },
  {
   "cell_type": "code",
   "execution_count": 23,
   "metadata": {},
   "outputs": [],
   "source": [
    "#satisfaction_level bins\n",
    "def satisf(df):\n",
    "    df_NK = df1.copy()\n",
    "\n",
    "    bins = [0, 0.11, 0.35, 0.46, 0.72, 0.91, 1.0]\n",
    "    df_NK['satisfaction_level_bin'] = pd.cut(df_NK.satisfaction_level,bins)\n",
    "    \n",
    "    df_NK = pd.concat([df_NK, pd.get_dummies(df_NK['satisfaction_level_bin'],prefix='sat', prefix_sep='_')], axis=1)\n",
    "    df_NK.drop('satisfaction_level_bin', inplace=True, axis=1)\n",
    "    df_NK.drop('satisfaction_level', inplace=True, axis=1)\n",
    "    return df_NK"
   ]
  },
  {
   "cell_type": "code",
   "execution_count": 24,
   "metadata": {},
   "outputs": [],
   "source": [
    "#last_evaluation bins\n",
    "def eval(df):\n",
    "    df_NK = df1.copy()\n",
    "    bins = [0, 0.39, 0.45, 0.57, 0.65, 0.88, 0.95, 1.15]\n",
    "    df_NK['last_evaluation_bin'] = pd.cut(df_NK.last_evaluation,bins)\n",
    "    \n",
    "    df_NK = pd.concat([df_NK, pd.get_dummies(df_NK['last_evaluation_bin'],prefix='eval', prefix_sep='_')], axis=1)\n",
    "    df_NK.drop('last_evaluation_bin', inplace=True, axis=1)\n",
    "    df_NK.drop('last_evaluation', inplace=True, axis=1)\n",
    "    return df_NK"
   ]
  },
  {
   "cell_type": "code",
   "execution_count": 25,
   "metadata": {},
   "outputs": [],
   "source": [
    "def eval_alt(df):\n",
    "    df_NK = df1.copy()\n",
    "    bins = [0, 0.4, 0.57, 0.81, 1.15]\n",
    "    df_NK['evaluation_bin2'] = pd.cut(df_NK.last_evaluation,bins)\n",
    "    \n",
    "    df_NK = pd.concat([df_NK, pd.get_dummies(df_NK['evaluation_bin2'],prefix='eval2', prefix_sep='_')], axis=1)\n",
    "    df_NK.drop('evaluation_bin2', inplace=True, axis=1)\n",
    "    df_NK.drop('last_evaluation', inplace=True, axis=1)\n",
    "    return df_NK"
   ]
  },
  {
   "cell_type": "code",
   "execution_count": 26,
   "metadata": {},
   "outputs": [],
   "source": [
    "def monthly_hrs(df):\n",
    "    df_NK = df1.copy()\n",
    "    bins = [-0.12,0.06,0.18,0.32,0.68,0.81,1.2]\n",
    "    df_NK['monthly_hrs_bin'] = pd.cut(df_NK.normalized_avg_monthly_hrs,bins)\n",
    "    \n",
    "    df_NK = pd.concat([df_NK, pd.get_dummies(df_NK['monthly_hrs_bin'],prefix='month_', prefix_sep='_')], axis=1)\n",
    "    df_NK.drop('monthly_hrs_bin', inplace=True, axis=1)\n",
    "    df_NK.drop('normalized_avg_monthly_hrs', inplace=True, axis=1)\n",
    "    return df_NK"
   ]
  },
  {
   "cell_type": "code",
   "execution_count": 27,
   "metadata": {},
   "outputs": [],
   "source": [
    "#binning of time spent variable categorically\n",
    "def time_spentCat(df):\n",
    "    df_NK = df1.copy()\n",
    "    dict = {2: \"low\", 3 : \"medium\", 4 : \"medium\", 6 : \"medium\", 5: \"high\", 7: \"very low\", 8: \"very low\", 10: \"very low\"}\n",
    "\n",
    "    df_NK['time_spend_company_bin'] = df_NK['time_spend_company'].map(dict)\n",
    "\n",
    "    df_NK = pd.concat([df_NK, pd.get_dummies(df_NK['time_spend_company_bin'],prefix='time', prefix_sep='_')], axis=1)\n",
    "    df_NK.drop('time_spend_company_bin', inplace=True, axis=1)\n",
    "    df_NK.drop('time_spend_company', inplace=True, axis=1)\n",
    "    return df_NK\n",
    "    df_NK.head()"
   ]
  },
  {
   "cell_type": "code",
   "execution_count": 28,
   "metadata": {},
   "outputs": [],
   "source": [
    "#binning of project numbers variable\n",
    "def project_numbers(df):\n",
    "    df_NK = df1.copy()\n",
    "    dict = {2: \"starter\", 3: \"basic\", 4 : \"intermediate\", 5 : \"advanced\", 6: \"specialist\", 7: \"executive\"}\n",
    "\n",
    "    df_NK['number_project_cat'] = df_NK['number_project'].map(dict)\n",
    "\n",
    "    df_NK = pd.concat([df_NK, pd.get_dummies(df_NK['number_project_cat'],prefix='project', prefix_sep='_')], axis=1)\n",
    "    df_NK.drop('number_project_cat', inplace=True, axis=1)\n",
    "    df_NK.drop('number_project', inplace=True, axis=1)\n",
    "    return df_NK"
   ]
  },
  {
   "cell_type": "code",
   "execution_count": 29,
   "metadata": {},
   "outputs": [],
   "source": [
    "#binning of project numbers variableAlt\n",
    "def project_numbersAlt(df):\n",
    "    df_NK = df1.copy()\n",
    "    dict = {3: \"low\", 4 : \"medium\", 5 : \"advance\",  2: \"high\", 6: \"high\", 7: \"high\"}\n",
    "\n",
    "    df_NK['number_project_cat'] = df_NK['number_project'].map(dict)\n",
    "\n",
    "    df_NK = pd.concat([df_NK, pd.get_dummies(df_NK['number_project_cat'],prefix='project2', prefix_sep='_')], axis=1)\n",
    "    df_NK.drop('number_project_cat', inplace=True, axis=1)\n",
    "    df_NK.drop('number_project', inplace=True, axis=1)\n",
    "    return df_NK"
   ]
  },
  {
   "cell_type": "markdown",
   "metadata": {},
   "source": [
    "We fix possible under representation, which we will see the effect from in the final scoring."
   ]
  },
  {
   "cell_type": "code",
   "execution_count": 30,
   "metadata": {},
   "outputs": [],
   "source": [
    "def under_represented_features(df):\n",
    "    under_rep = []\n",
    "    for i in df.columns:\n",
    "        counts = df[i].value_counts()\n",
    "        zeros = counts.iloc[0]\n",
    "        if ((zeros / len(df)) * 100) > 99.0:\n",
    "            under_rep.append(i)\n",
    "    df.drop(under_rep, axis=1, inplace=True)\n",
    "    return df"
   ]
  },
  {
   "cell_type": "markdown",
   "metadata": {},
   "source": [
    "# 6. Final scoring"
   ]
  },
  {
   "cell_type": "markdown",
   "metadata": {},
   "source": [
    "We write the function to score the model."
   ]
  },
  {
   "cell_type": "code",
   "execution_count": 31,
   "metadata": {},
   "outputs": [],
   "source": [
    "def score_model(data, seed=666):\n",
    "    X = data.loc[:, data.columns != 'left']\n",
    "    y = data.loc[:, 'left']\n",
    "    X_train, X_test, y_train, y_test = train_test_split(X, y, \n",
    "                                                        test_size=0.20, \n",
    "                                                        random_state=seed)\n",
    "    \n",
    "    # Create linear regression object\n",
    "    regr = linear_model.LogisticRegression()\n",
    "    regr.fit(X_train, y_train)\n",
    "    y_pred = regr.predict(X_test)\n",
    "    score= regr.score(X_test, y_test)\n",
    "    return score\n",
    "    #return accuracy_score(y_test, y_pred)\n",
    "\n",
    "#from sklearn.cross_validation import train_test_split\n",
    "#Xtrain, Xtest, ytrain, ytest = train_test_split(X_iris, y_iris, random_state=1)"
   ]
  },
  {
   "cell_type": "markdown",
   "metadata": {},
   "source": [
    "We take the functions of features we want to evaluate that are predicted to improve our model."
   ]
  },
  {
   "cell_type": "code",
   "execution_count": 32,
   "metadata": {
    "scrolled": true
   },
   "outputs": [
    {
     "name": "stdout",
     "output_type": "stream",
     "text": [
      "Base Score: 0.7887\n",
      "- New Score (satisf): 0.9083 [diff: 0.1197] [Accepted]\n",
      "- New Score (eval): 0.8357 [diff: -0.0727] [Rejected]\n",
      "- New Score (eval_alt): 0.8257 [diff: -0.0827] [Rejected]\n",
      "- New Score (monthly_hrs): 0.8420 [diff: -0.0663] [Rejected]\n",
      "- New Score (project_numbers): 0.8630 [diff: -0.0453] [Rejected]\n",
      "- New Score (project_numbersAlt): 0.8513 [diff: -0.0570] [Rejected]\n",
      "- New Score (time_spentCat): 0.8423 [diff: -0.0660] [Rejected]\n",
      "- New Score (under_represented_features): 0.9083 [diff: 0.0000] [Accepted]\n",
      "Mean accuracy after CV: 0.9127 +/- 0.0075\n",
      "Max accuracy after CV: 0.9260\n"
     ]
    }
   ],
   "source": [
    "fe_functions = ['satisf', 'eval', 'eval_alt','monthly_hrs', 'project_numbers','project_numbersAlt', 'time_spentCat', 'under_represented_features' ]\n",
    "funcs, new_dataset = feature_engineering_pipeline(df1, fe_functions)\n",
    "\n",
    "accuracy = cv_evaluate(new_dataset, splits=100)\n",
    "print('Mean accuracy after CV: {:.4f} +/- {:.4f}'.format(np.mean(accuracy), np.std(accuracy)))\n",
    "print('Max accuracy after CV: {:.4f}'.format(np.max(accuracy)))\n",
    "#print('Accuracy in hold-out dataset: {:.3f}'.format(\n",
    " #   pipeline.score(X.test, y.test)))"
   ]
  },
  {
   "cell_type": "markdown",
   "metadata": {},
   "source": [
    "A problem that was not been possible to solve is that no other metrics build further on the highest score of the satisfaction level. The fact that no dependency between the features is displayed must be a mistake, made in my code."
   ]
  },
  {
   "cell_type": "code",
   "execution_count": 33,
   "metadata": {},
   "outputs": [
    {
     "name": "stdout",
     "output_type": "stream",
     "text": [
      "Base Score: 0.7887\n",
      "- New Score (satisf): 0.9083 [diff: 0.1197] [Accepted]\n",
      "Mean accuracy after CV: 0.9127 +/- 0.0075\n",
      "Max accuracy after CV: 0.9260\n"
     ]
    }
   ],
   "source": [
    "fe_functions = ['satisf']\n",
    "funcs, new_dataset = feature_engineering_pipeline(df1, fe_functions)\n",
    "\n",
    "accuracy = cv_evaluate(new_dataset, splits=100)\n",
    "print('Mean accuracy after CV: {:.4f} +/- {:.4f}'.format(np.mean(accuracy), np.std(accuracy)))\n",
    "print('Max accuracy after CV: {:.4f}'.format(np.max(accuracy)))"
   ]
  }
 ],
 "metadata": {
  "kernelspec": {
   "display_name": "Python 3",
   "language": "python",
   "name": "python3"
  },
  "language_info": {
   "codemirror_mode": {
    "name": "ipython",
    "version": 3
   },
   "file_extension": ".py",
   "mimetype": "text/x-python",
   "name": "python",
   "nbconvert_exporter": "python",
   "pygments_lexer": "ipython3",
   "version": "3.7.1"
  }
 },
 "nbformat": 4,
 "nbformat_minor": 2
}
